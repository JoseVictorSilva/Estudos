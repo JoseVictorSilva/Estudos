{
 "cells": [
  {
   "cell_type": "code",
   "execution_count": 1,
   "metadata": {},
   "outputs": [],
   "source": [
    "import torch\n",
    "import torch.nn as nn\n",
    "import torch.nn.functional as F\n",
    "import torch.optim as optim\n",
    "import matplotlib.pyplot as plt\n",
    "from torchvision import datasets, transforms"
   ]
  },
  {
   "cell_type": "code",
   "execution_count": 2,
   "metadata": {},
   "outputs": [],
   "source": [
    "transform = transforms.Compose([transforms.ToTensor(), transforms.Normalize([0.5], [0.5])])\n",
    "mnist = datasets.MNIST('./MNIST', download=True, transform=transform)\n",
    "dataloader = torch.utils.data.DataLoader(mnist, batch_size=256, shuffle=True)"
   ]
  },
  {
   "cell_type": "code",
   "execution_count": 3,
   "metadata": {},
   "outputs": [],
   "source": [
    "# Define o gerador\n",
    "class Generator(nn.Module):\n",
    "    def __init__(self):\n",
    "        super(Generator, self).__init__()\n",
    "        # Entrada de 256 -> 128 com imagens 7*7\n",
    "        self.fc1 = nn.Linear(256, 7*7*128)\n",
    "        # A entrada de 128 é transformada em 64 com um aumento da imagem se tornando 14x14 (usado um kernel de 4x4)\n",
    "        self.conv1 = nn.ConvTranspose2d(128, 64, 4, stride=2, padding=1)\n",
    "        # A entrada de 64 é transformada em 1 com um aumento da imagem se tornando 28x28\n",
    "        self.conv2 = nn.ConvTranspose2d(64, 1, 4, stride=2, padding=1)\n",
    "            #stride serve para aumentar a imagem\n",
    "            #padding serve para aumentar a saida\n",
    "    def forward(self, x):\n",
    "        x = F.leaky_relu(self.fc1(x), 0.2)\n",
    "        x = x.view(-1, 128, 7, 7)\n",
    "        x = F.leaky_relu(self.conv1(x), 0.2)\n",
    "        x = torch.tanh(self.conv2(x))\n",
    "        return x"
   ]
  },
  {
   "cell_type": "code",
   "execution_count": 4,
   "metadata": {},
   "outputs": [],
   "source": [
    "# Define o discriminador\n",
    "class Discriminator(nn.Module):\n",
    "    def __init__(self):\n",
    "        super(Discriminator, self).__init__()\n",
    "        self.conv1 = nn.Conv2d(1, 64, 4, stride=2, padding=1)\n",
    "        self.conv2 = nn.Conv2d(64, 128, 4, stride=2, padding=1)\n",
    "        self.fc1 = nn.Linear(128*7*7, 1)\n",
    "\n",
    "    def forward(self, x):\n",
    "        x = F.leaky_relu(self.conv1(x), 0.2)\n",
    "        x = F.leaky_relu(self.conv2(x), 0.2)\n",
    "        x = x.view(-1, 128*7*7)\n",
    "        x = torch.sigmoid(self.fc1(x))\n",
    "        return x"
   ]
  },
  {
   "cell_type": "code",
   "execution_count": 5,
   "metadata": {},
   "outputs": [],
   "source": [
    "G = Generator()\n",
    "D = Discriminator()"
   ]
  },
  {
   "cell_type": "code",
   "execution_count": 6,
   "metadata": {},
   "outputs": [],
   "source": [
    "G_optimizer = optim.Adam(G.parameters(), lr=0.0002)\n",
    "D_optimizer = optim.Adam(D.parameters(), lr=0.0002)"
   ]
  },
  {
   "cell_type": "code",
   "execution_count": 7,
   "metadata": {},
   "outputs": [],
   "source": [
    "# Defina a perda\n",
    "loss = nn.BCELoss()"
   ]
  },
  {
   "cell_type": "code",
   "execution_count": 11,
   "metadata": {},
   "outputs": [
    {
     "name": "stdout",
     "output_type": "stream",
     "text": [
      "A: torch.Size([256, 1, 28, 28])\n",
      "B: torch.Size([256, 1])\n"
     ]
    },
    {
     "data": {
      "image/png": "[encoded data removed]",
      "text/plain": [
       "<Figure size 720x360 with 5 Axes>"
      ]
     },
     "metadata": {
      "needs_background": "light"
     },
     "output_type": "display_data"
    },
    {
     "ename": "AttributeError",
     "evalue": "'int' object has no attribute 'zero_grad'",
     "output_type": "error",
     "traceback": [
      "\u001b[1;31m---------------------------------------------------------------------------\u001b[0m",
      "\u001b[1;31mAttributeError\u001b[0m                            Traceback (most recent call last)",
      "\u001b[1;32mc:\\Users\\vitao\\Documentos\\Documentos\\José\\Projetos\\Pytorch\\GAN\\testeCNN.ipynb Cell 8\u001b[0m in \u001b[0;36m<cell line: 1>\u001b[1;34m()\u001b[0m\n\u001b[0;32m     <a href='vscode-notebook-cell:/c%3A/Users/vitao/Documentos/Documentos/Jos%C3%A9/Projetos/Pytorch/GAN/testeCNN.ipynb#X10sZmlsZQ%3D%3D?line=10'>11</a>\u001b[0m real_loss\u001b[39m.\u001b[39mbackward()\n\u001b[0;32m     <a href='vscode-notebook-cell:/c%3A/Users/vitao/Documentos/Documentos/Jos%C3%A9/Projetos/Pytorch/GAN/testeCNN.ipynb#X10sZmlsZQ%3D%3D?line=13'>14</a>\u001b[0m \u001b[39m# Update the generator\u001b[39;00m\n\u001b[1;32m---> <a href='vscode-notebook-cell:/c%3A/Users/vitao/Documentos/Documentos/Jos%C3%A9/Projetos/Pytorch/GAN/testeCNN.ipynb#X10sZmlsZQ%3D%3D?line=14'>15</a>\u001b[0m G\u001b[39m.\u001b[39;49mzero_grad()\n\u001b[0;32m     <a href='vscode-notebook-cell:/c%3A/Users/vitao/Documentos/Documentos/Jos%C3%A9/Projetos/Pytorch/GAN/testeCNN.ipynb#X10sZmlsZQ%3D%3D?line=15'>16</a>\u001b[0m noise \u001b[39m=\u001b[39m torch\u001b[39m.\u001b[39mrandn(\u001b[39m256\u001b[39m, \u001b[39m256\u001b[39m)\n\u001b[0;32m     <a href='vscode-notebook-cell:/c%3A/Users/vitao/Documentos/Documentos/Jos%C3%A9/Projetos/Pytorch/GAN/testeCNN.ipynb#X10sZmlsZQ%3D%3D?line=16'>17</a>\u001b[0m fake_images \u001b[39m=\u001b[39m G(noise)\n",
      "\u001b[1;31mAttributeError\u001b[0m: 'int' object has no attribute 'zero_grad'"
     ]
    }
   ],
   "source": [
    "for epoch in range(200):\n",
    "    for i, (images, _) in enumerate(dataloader):\n",
    "        # Update the discriminator\n",
    "        D.zero_grad()\n",
    "        # Número de amostras (10) não será mudada, depois os canais, e então altura e largura\n",
    "        real_images = images.reshape(-1, 1, 28, 28)\n",
    "        # Valor real = 1 (certo)\n",
    "        real_labels = torch.ones(256, 1)\n",
    "        real_outputs = D(real_images)\n",
    "        real_loss = loss(real_outputs, real_labels)\n",
    "        real_loss.backward()\n",
    "        \n",
    "\n",
    "        # Update the generator\n",
    "        G.zero_grad()\n",
    "        noise = torch.randn(256, 256)\n",
    "        fake_images = G(noise)\n",
    "        outputs = D(fake_images)\n",
    "        print(f'A: {fake_images.shape}')\n",
    "        print(f'B: {outputs.shape}')\n",
    "        G_loss = loss(outputs, real_labels)\n",
    "        G = 1\n",
    "        G_loss.backward()\n",
    "        G_optimizer.step()\n",
    "        \n",
    "\n",
    "        if i == 0:\n",
    "            fig, ax = plt.subplots(1, 5, figsize=(10,5))\n",
    "            for i in range(5):\n",
    "                ax[i].imshow(fake_images.cpu().detach().numpy()[i].reshape(28, 28), cmap='gray')\n",
    "                ax[i].xaxis.set_visible(False)\n",
    "                ax[i].yaxis.set_visible(False)\n",
    "            plt.show()\n",
    "            \n",
    "        if (i + 1) % 100 == 0:\n",
    "            fig, ax = plt.subplots(1, 5, figsize=(10,5))\n",
    "            for i in range(5):\n",
    "                ax[i].imshow(fake_images.cpu().detach().numpy()[i].reshape(28, 28), cmap='gray')\n",
    "                ax[i].xaxis.set_visible(False)\n",
    "                ax[i].yaxis.set_visible(False)\n",
    "            plt.show()\n",
    "            print('Epoch [{}/{}], Step [{}/{}], d_loss: {:.4f}, g_loss: {:.4f}' \n",
    "                  .format(epoch, 200, i + 1, len(dataloader), real_loss + fake_loss, G_loss))\n",
    "    print(epoch)"
   ]
  }
 ],
 "metadata": {
  "kernelspec": {
   "display_name": "Python 3",
   "language": "python",
   "name": "python3"
  },
  "language_info": {
   "codemirror_mode": {
    "name": "ipython",
    "version": 3
   },
   "file_extension": ".py",
   "mimetype": "text/x-python",
   "name": "python",
   "nbconvert_exporter": "python",
   "pygments_lexer": "ipython3",
   "version": "3.10.2"
  },
  "orig_nbformat": 4,
  "vscode": {
   "interpreter": {
    "hash": "748b4bbb40e1dc38591514fffe1d01ec0f0710858425568fad37763828692ea0"
   }
  }
 },
 "nbformat": 4,
 "nbformat_minor": 2
}
