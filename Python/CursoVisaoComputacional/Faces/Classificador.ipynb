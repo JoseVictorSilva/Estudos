{
 "cells": [
  {
   "cell_type": "code",
   "execution_count": 1,
   "metadata": {},
   "outputs": [],
   "source": [
    "import cv2 as cv\n"
   ]
  },
  {
   "cell_type": "code",
   "execution_count": 2,
   "metadata": {},
   "outputs": [],
   "source": [
    "imagem = cv.imread('../ArquivosBase/trabalho.jpg')"
   ]
  },
  {
   "cell_type": "code",
   "execution_count": 3,
   "metadata": {},
   "outputs": [
    {
     "data": {
      "text/plain": [
       "-1"
      ]
     },
     "execution_count": 3,
     "metadata": {},
     "output_type": "execute_result"
    }
   ],
   "source": [
    "cv.imshow('',imagem)\n",
    "cv.waitKey()"
   ]
  },
  {
   "cell_type": "code",
   "execution_count": 4,
   "metadata": {},
   "outputs": [
    {
     "data": {
      "text/plain": [
       "(600, 800, 3)"
      ]
     },
     "execution_count": 4,
     "metadata": {},
     "output_type": "execute_result"
    }
   ],
   "source": [
    "imagem = cv.resize(imagem, (800,600))\n",
    "imagem.shape"
   ]
  },
  {
   "cell_type": "code",
   "execution_count": 5,
   "metadata": {},
   "outputs": [
    {
     "data": {
      "text/plain": [
       "(1440000, 480000)"
      ]
     },
     "execution_count": 5,
     "metadata": {},
     "output_type": "execute_result"
    }
   ],
   "source": [
    "# Altura x Largura x R G B\n",
    "600 * 800 * 3, 600 * 800"
   ]
  },
  {
   "cell_type": "code",
   "execution_count": 6,
   "metadata": {},
   "outputs": [],
   "source": [
    "imagem_cinza = cv.cvtColor(imagem, cv.COLOR_BGR2GRAY)\n"
   ]
  },
  {
   "cell_type": "code",
   "execution_count": 7,
   "metadata": {},
   "outputs": [
    {
     "data": {
      "text/plain": [
       "(600, 800)"
      ]
     },
     "execution_count": 7,
     "metadata": {},
     "output_type": "execute_result"
    }
   ],
   "source": [
    "cv.imshow('',imagem_cinza)\n",
    "cv.waitKey()\n",
    "imagem_cinza.shape"
   ]
  },
  {
   "cell_type": "markdown",
   "metadata": {},
   "source": [
    "### Detecção de Faces"
   ]
  },
  {
   "cell_type": "code",
   "execution_count": 8,
   "metadata": {},
   "outputs": [],
   "source": [
    "detector_facial = cv.CascadeClassifier('../ArquivosBase/haarcascade_frontalface_default.xml')"
   ]
  },
  {
   "cell_type": "code",
   "execution_count": 9,
   "metadata": {},
   "outputs": [],
   "source": [
    "deteccoes = detector_facial.detectMultiScale(imagem_cinza)"
   ]
  },
  {
   "cell_type": "code",
   "execution_count": 10,
   "metadata": {},
   "outputs": [
    {
     "data": {
      "text/plain": [
       "array([[115, 124,  53,  53],\n",
       "       [677,  72,  68,  68],\n",
       "       [475, 123,  59,  59],\n",
       "       [387, 233,  73,  73],\n",
       "       [390, 323,  56,  56],\n",
       "       [ 92, 239,  66,  66]])"
      ]
     },
     "execution_count": 10,
     "metadata": {},
     "output_type": "execute_result"
    }
   ],
   "source": [
    "deteccoes"
   ]
  },
  {
   "cell_type": "code",
   "execution_count": 11,
   "metadata": {},
   "outputs": [
    {
     "data": {
      "text/plain": [
       "6"
      ]
     },
     "execution_count": 11,
     "metadata": {},
     "output_type": "execute_result"
    }
   ],
   "source": [
    "len(deteccoes)"
   ]
  },
  {
   "cell_type": "code",
   "execution_count": 12,
   "metadata": {},
   "outputs": [
    {
     "data": {
      "text/plain": [
       "-1"
      ]
     },
     "execution_count": 12,
     "metadata": {},
     "output_type": "execute_result"
    }
   ],
   "source": [
    "# X, Y, Largura da face, Altura da face\n",
    "for x, y, w,  h in deteccoes:\n",
    "    cv.rectangle(imagem,(x,y), (x+w,y+h), (0,255,255),5)\n",
    "cv.imshow('',imagem)\n",
    "cv.waitKey()"
   ]
  },
  {
   "cell_type": "markdown",
   "metadata": {},
   "source": [
    "### Parâmetros haarcascades"
   ]
  },
  {
   "cell_type": "code",
   "execution_count": 13,
   "metadata": {},
   "outputs": [
    {
     "data": {
      "text/plain": [
       "(600, 800, 3)"
      ]
     },
     "execution_count": 13,
     "metadata": {},
     "output_type": "execute_result"
    }
   ],
   "source": [
    "imagem = cv.imread('../ArquivosBase/trabalho.jpg')\n",
    "imagem = cv.resize(imagem, (800,600))\n",
    "imagem.shape"
   ]
  },
  {
   "cell_type": "code",
   "execution_count": 14,
   "metadata": {},
   "outputs": [
    {
     "data": {
      "text/plain": [
       "array([[114, 123,  54,  54],\n",
       "       [476, 123,  59,  59],\n",
       "       [679,  74,  66,  66],\n",
       "       [ 89, 238,  68,  68],\n",
       "       [386, 232,  74,  74]])"
      ]
     },
     "execution_count": 14,
     "metadata": {},
     "output_type": "execute_result"
    }
   ],
   "source": [
    "deteccoes2 = detector_facial.detectMultiScale(imagem_cinza, scaleFactor = 1.08, minNeighbors=3, minSize=(32,32), maxSize=(100,100))\n",
    "deteccoes2"
   ]
  },
  {
   "cell_type": "code",
   "execution_count": 15,
   "metadata": {},
   "outputs": [
    {
     "data": {
      "text/plain": [
       "-1"
      ]
     },
     "execution_count": 15,
     "metadata": {},
     "output_type": "execute_result"
    }
   ],
   "source": [
    "for x, y, w, h in deteccoes2:\n",
    "    cv.rectangle(imagem,(x,y), (x+w,y+h), (0,255,255),5)\n",
    "cv.imshow('',imagem)\n",
    "cv.waitKey()"
   ]
  },
  {
   "cell_type": "code",
   "execution_count": 16,
   "metadata": {},
   "outputs": [
    {
     "data": {
      "text/plain": [
       "-1"
      ]
     },
     "execution_count": 16,
     "metadata": {},
     "output_type": "execute_result"
    }
   ],
   "source": [
    "imagemPessoas = cv.imread('../ArquivosBase/people2.jpg')\n",
    "imagemPessoas_cinza = cv.cvtColor(imagemPessoas, cv.COLOR_BGR2GRAY)\n",
    "deteccoes3 = detector_facial.detectMultiScale(imagemPessoas_cinza, scaleFactor = 1.2, minNeighbors=3, minSize=(32,32), maxSize=(100,100))\n",
    "for x, y, w, h in deteccoes3:\n",
    "    cv.rectangle(imagemPessoas,(x,y), (x+w,y+h), (0,255,0),2)\n",
    "cv.imshow('',imagemPessoas)\n",
    "cv.waitKey()\n"
   ]
  },
  {
   "cell_type": "markdown",
   "metadata": {},
   "source": [
    "### Detecção de Olhos"
   ]
  },
  {
   "cell_type": "code",
   "execution_count": 17,
   "metadata": {},
   "outputs": [],
   "source": [
    "imagemOlhos = cv.imread('../ArquivosBase/trabalho.jpg')\n",
    "imagemOlhos = cv.resize(imagemOlhos, (800,600))\n",
    "imagemOlhos_cinza = cv.cvtColor(imagemOlhos, cv.COLOR_BGR2GRAY)\n",
    "\n"
   ]
  },
  {
   "cell_type": "code",
   "execution_count": 18,
   "metadata": {},
   "outputs": [
    {
     "data": {
      "text/plain": [
       "-1"
      ]
     },
     "execution_count": 18,
     "metadata": {},
     "output_type": "execute_result"
    }
   ],
   "source": [
    "deteccoes4 = detector_facial.detectMultiScale(imagemOlhos_cinza, scaleFactor = 1.3, minNeighbors=3, maxSize=(100,100))\n",
    "for x, y, w, h in deteccoes4:\n",
    "    cv.rectangle(imagemOlhos,(x,y), (x+w,y+h), (0,255,0),2)\n",
    "cv.imshow('',imagemOlhos)\n",
    "cv.waitKey()"
   ]
  },
  {
   "cell_type": "code",
   "execution_count": 19,
   "metadata": {},
   "outputs": [
    {
     "data": {
      "text/plain": [
       "-1"
      ]
     },
     "execution_count": 19,
     "metadata": {},
     "output_type": "execute_result"
    }
   ],
   "source": [
    "detector_olhos = cv.CascadeClassifier('../ArquivosBase/haarcascade_eye.xml')\n",
    "deteccoesOlhos = detector_olhos.detectMultiScale(imagemOlhos_cinza, scaleFactor=1.02, minNeighbors=10, maxSize=(70,70))\n",
    "for x, y, w, h in deteccoesOlhos:\n",
    "    cv.rectangle(imagemOlhos,(x,y), (x+w,y+h), (255,255,0),2)\n",
    "cv.imshow('',imagemOlhos)\n",
    "cv.waitKey()"
   ]
  },
  {
   "cell_type": "markdown",
   "metadata": {},
   "source": [
    "### Dlib"
   ]
  },
  {
   "cell_type": "code",
   "execution_count": null,
   "metadata": {},
   "outputs": [],
   "source": []
  }
 ],
 "metadata": {
  "kernelspec": {
   "display_name": "Python 3.10.2 64-bit",
   "language": "python",
   "name": "python3"
  },
  "language_info": {
   "codemirror_mode": {
    "name": "ipython",
    "version": 3
   },
   "file_extension": ".py",
   "mimetype": "text/x-python",
   "name": "python",
   "nbconvert_exporter": "python",
   "pygments_lexer": "ipython3",
   "version": "3.10.2"
  },
  "orig_nbformat": 4,
  "vscode": {
   "interpreter": {
    "hash": "748b4bbb40e1dc38591514fffe1d01ec0f0710858425568fad37763828692ea0"
   }
  }
 },
 "nbformat": 4,
 "nbformat_minor": 2
}
