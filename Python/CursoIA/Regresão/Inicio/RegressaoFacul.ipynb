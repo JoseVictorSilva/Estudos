{
 "cells": [
  {
   "cell_type": "code",
   "execution_count": 9,
   "metadata": {},
   "outputs": [],
   "source": [
    "import plotly.express as px\n",
    "import plotly.graph_objects as go\n",
    "import seaborn as sns\n",
    "import matplotlib.pyplot as plt\n",
    "import pandas as pd\n",
    "import numpy as np\n",
    "from sklearn.preprocessing import OneHotEncoder\n",
    "from sklearn.compose import make_column_transformer\n",
    "from sklearn.linear_model import LinearRegression\n",
    "from sklearn.model_selection import train_test_split\n",
    "from sklearn.metrics import mean_absolute_error, mean_squared_error"
   ]
  },
  {
   "cell_type": "code",
   "execution_count": 10,
   "metadata": {},
   "outputs": [],
   "source": [
    "base_insurance = pd.read_csv('../ArquivosBase/InsuranceCorrigido.csv')\n"
   ]
  },
  {
   "cell_type": "code",
   "execution_count": 11,
   "metadata": {},
   "outputs": [
    {
     "data": {
      "text/html": [
       "<div>\n",
       "<style scoped>\n",
       "    .dataframe tbody tr th:only-of-type {\n",
       "        vertical-align: middle;\n",
       "    }\n",
       "\n",
       "    .dataframe tbody tr th {\n",
       "        vertical-align: top;\n",
       "    }\n",
       "\n",
       "    .dataframe thead th {\n",
       "        text-align: right;\n",
       "    }\n",
       "</style>\n",
       "<table border=\"1\" class=\"dataframe\">\n",
       "  <thead>\n",
       "    <tr style=\"text-align: right;\">\n",
       "      <th></th>\n",
       "      <th>age</th>\n",
       "      <th>sex</th>\n",
       "      <th>bmi</th>\n",
       "      <th>children</th>\n",
       "      <th>smoker</th>\n",
       "      <th>region</th>\n",
       "      <th>charges</th>\n",
       "    </tr>\n",
       "  </thead>\n",
       "  <tbody>\n",
       "    <tr>\n",
       "      <th>0</th>\n",
       "      <td>54</td>\n",
       "      <td>female</td>\n",
       "      <td>47.410</td>\n",
       "      <td>0</td>\n",
       "      <td>yes</td>\n",
       "      <td>southeast</td>\n",
       "      <td>63770</td>\n",
       "    </tr>\n",
       "    <tr>\n",
       "      <th>1</th>\n",
       "      <td>45</td>\n",
       "      <td>male</td>\n",
       "      <td>30.360</td>\n",
       "      <td>0</td>\n",
       "      <td>yes</td>\n",
       "      <td>southeast</td>\n",
       "      <td>62592</td>\n",
       "    </tr>\n",
       "    <tr>\n",
       "      <th>2</th>\n",
       "      <td>52</td>\n",
       "      <td>male</td>\n",
       "      <td>34.485</td>\n",
       "      <td>3</td>\n",
       "      <td>yes</td>\n",
       "      <td>northwest</td>\n",
       "      <td>60021</td>\n",
       "    </tr>\n",
       "    <tr>\n",
       "      <th>3</th>\n",
       "      <td>31</td>\n",
       "      <td>female</td>\n",
       "      <td>38.095</td>\n",
       "      <td>1</td>\n",
       "      <td>yes</td>\n",
       "      <td>northeast</td>\n",
       "      <td>58571</td>\n",
       "    </tr>\n",
       "    <tr>\n",
       "      <th>4</th>\n",
       "      <td>33</td>\n",
       "      <td>female</td>\n",
       "      <td>35.530</td>\n",
       "      <td>0</td>\n",
       "      <td>yes</td>\n",
       "      <td>northwest</td>\n",
       "      <td>55135</td>\n",
       "    </tr>\n",
       "    <tr>\n",
       "      <th>...</th>\n",
       "      <td>...</td>\n",
       "      <td>...</td>\n",
       "      <td>...</td>\n",
       "      <td>...</td>\n",
       "      <td>...</td>\n",
       "      <td>...</td>\n",
       "      <td>...</td>\n",
       "    </tr>\n",
       "    <tr>\n",
       "      <th>1333</th>\n",
       "      <td>18</td>\n",
       "      <td>male</td>\n",
       "      <td>34.100</td>\n",
       "      <td>0</td>\n",
       "      <td>no</td>\n",
       "      <td>southeast</td>\n",
       "      <td>1137</td>\n",
       "    </tr>\n",
       "    <tr>\n",
       "      <th>1334</th>\n",
       "      <td>18</td>\n",
       "      <td>male</td>\n",
       "      <td>33.660</td>\n",
       "      <td>0</td>\n",
       "      <td>no</td>\n",
       "      <td>southeast</td>\n",
       "      <td>1136</td>\n",
       "    </tr>\n",
       "    <tr>\n",
       "      <th>1335</th>\n",
       "      <td>18</td>\n",
       "      <td>male</td>\n",
       "      <td>33.330</td>\n",
       "      <td>0</td>\n",
       "      <td>no</td>\n",
       "      <td>southeast</td>\n",
       "      <td>1135</td>\n",
       "    </tr>\n",
       "    <tr>\n",
       "      <th>1336</th>\n",
       "      <td>18</td>\n",
       "      <td>male</td>\n",
       "      <td>30.140</td>\n",
       "      <td>0</td>\n",
       "      <td>no</td>\n",
       "      <td>southeast</td>\n",
       "      <td>1131</td>\n",
       "    </tr>\n",
       "    <tr>\n",
       "      <th>1337</th>\n",
       "      <td>18</td>\n",
       "      <td>male</td>\n",
       "      <td>23.210</td>\n",
       "      <td>0</td>\n",
       "      <td>no</td>\n",
       "      <td>southeast</td>\n",
       "      <td>1121</td>\n",
       "    </tr>\n",
       "  </tbody>\n",
       "</table>\n",
       "<p>1338 rows × 7 columns</p>\n",
       "</div>"
      ],
      "text/plain": [
       "      age     sex     bmi  children smoker     region  charges\n",
       "0      54  female  47.410         0    yes  southeast    63770\n",
       "1      45    male  30.360         0    yes  southeast    62592\n",
       "2      52    male  34.485         3    yes  northwest    60021\n",
       "3      31  female  38.095         1    yes  northeast    58571\n",
       "4      33  female  35.530         0    yes  northwest    55135\n",
       "...   ...     ...     ...       ...    ...        ...      ...\n",
       "1333   18    male  34.100         0     no  southeast     1137\n",
       "1334   18    male  33.660         0     no  southeast     1136\n",
       "1335   18    male  33.330         0     no  southeast     1135\n",
       "1336   18    male  30.140         0     no  southeast     1131\n",
       "1337   18    male  23.210         0     no  southeast     1121\n",
       "\n",
       "[1338 rows x 7 columns]"
      ]
     },
     "execution_count": 11,
     "metadata": {},
     "output_type": "execute_result"
    }
   ],
   "source": [
    "base_insurance"
   ]
  },
  {
   "cell_type": "code",
   "execution_count": 12,
   "metadata": {},
   "outputs": [
    {
     "data": {
      "image/png": "[encoded data removed]",
      "text/plain": [
       "<Figure size 432x288 with 2 Axes>"
      ]
     },
     "metadata": {
      "needs_background": "light"
     },
     "output_type": "display_data"
    }
   ],
   "source": [
    "sns.heatmap(base_insurance.corr());"
   ]
  },
  {
   "cell_type": "code",
   "execution_count": 13,
   "metadata": {},
   "outputs": [
    {
     "data": {
      "image/png": "[encoded data removed]",
      "text/plain": [
       "<Figure size 432x288 with 1 Axes>"
      ]
     },
     "metadata": {
      "needs_background": "light"
     },
     "output_type": "display_data"
    }
   ],
   "source": [
    "plt.boxplot(base_insurance['charges'])\n",
    "plt.show()"
   ]
  },
  {
   "cell_type": "code",
   "execution_count": 14,
   "metadata": {},
   "outputs": [
    {
     "name": "stdout",
     "output_type": "stream",
     "text": [
      "Old Shape:  (1338, 7)\n",
      "New Shape:  (1198, 7)\n"
     ]
    },
    {
     "name": "stderr",
     "output_type": "stream",
     "text": [
      "C:\\Users\\vitao\\AppData\\Local\\Temp\\ipykernel_11612\\1010945882.py:3: DeprecationWarning: the `interpolation=` argument to percentile was renamed to `method=`, which has additional options.\n",
      "Users of the modes 'nearest', 'lower', 'higher', or 'midpoint' are encouraged to review the method they. (Deprecated NumPy 1.22)\n",
      "  Q1 = np.percentile(base_insurance['charges'], 25,\n",
      "C:\\Users\\vitao\\AppData\\Local\\Temp\\ipykernel_11612\\1010945882.py:6: DeprecationWarning: the `interpolation=` argument to percentile was renamed to `method=`, which has additional options.\n",
      "Users of the modes 'nearest', 'lower', 'higher', or 'midpoint' are encouraged to review the method they. (Deprecated NumPy 1.22)\n",
      "  Q3 = np.percentile(base_insurance['charges'], 75,\n"
     ]
    }
   ],
   "source": [
    "''' Detection '''\n",
    "# IQR\n",
    "Q1 = np.percentile(base_insurance['charges'], 25,\n",
    "                   interpolation = 'midpoint')\n",
    " \n",
    "Q3 = np.percentile(base_insurance['charges'], 75,\n",
    "                   interpolation = 'midpoint')\n",
    "IQR = Q3 - Q1\n",
    " \n",
    "print(\"Old Shape: \", base_insurance.shape)\n",
    " \n",
    "upper = np.where(base_insurance['charges'] >= (Q3+1.5*IQR))\n",
    "lower = np.where(base_insurance['charges'] <= (Q1-1.5*IQR))\n",
    " \n",
    "''' Removing the Outliers '''\n",
    "base_insurance.drop(upper[0], inplace = True)\n",
    "base_insurance.drop(lower[0], inplace = True)\n",
    " \n",
    "print(\"New Shape: \", base_insurance.shape)"
   ]
  },
  {
   "cell_type": "code",
   "execution_count": 15,
   "metadata": {},
   "outputs": [],
   "source": [
    "one_hot_encoder = OneHotEncoder()"
   ]
  },
  {
   "cell_type": "code",
   "execution_count": 16,
   "metadata": {},
   "outputs": [
    {
     "data": {
      "text/html": [
       "<div>\n",
       "<style scoped>\n",
       "    .dataframe tbody tr th:only-of-type {\n",
       "        vertical-align: middle;\n",
       "    }\n",
       "\n",
       "    .dataframe tbody tr th {\n",
       "        vertical-align: top;\n",
       "    }\n",
       "\n",
       "    .dataframe thead th {\n",
       "        text-align: right;\n",
       "    }\n",
       "</style>\n",
       "<table border=\"1\" class=\"dataframe\">\n",
       "  <thead>\n",
       "    <tr style=\"text-align: right;\">\n",
       "      <th></th>\n",
       "      <th>age</th>\n",
       "      <th>sex</th>\n",
       "      <th>bmi</th>\n",
       "      <th>children</th>\n",
       "      <th>smoker</th>\n",
       "      <th>region</th>\n",
       "    </tr>\n",
       "  </thead>\n",
       "  <tbody>\n",
       "    <tr>\n",
       "      <th>140</th>\n",
       "      <td>19</td>\n",
       "      <td>female</td>\n",
       "      <td>33.110</td>\n",
       "      <td>0</td>\n",
       "      <td>yes</td>\n",
       "      <td>southeast</td>\n",
       "    </tr>\n",
       "    <tr>\n",
       "      <th>141</th>\n",
       "      <td>18</td>\n",
       "      <td>male</td>\n",
       "      <td>31.680</td>\n",
       "      <td>2</td>\n",
       "      <td>yes</td>\n",
       "      <td>southeast</td>\n",
       "    </tr>\n",
       "    <tr>\n",
       "      <th>142</th>\n",
       "      <td>24</td>\n",
       "      <td>male</td>\n",
       "      <td>31.065</td>\n",
       "      <td>0</td>\n",
       "      <td>yes</td>\n",
       "      <td>northeast</td>\n",
       "    </tr>\n",
       "    <tr>\n",
       "      <th>143</th>\n",
       "      <td>23</td>\n",
       "      <td>female</td>\n",
       "      <td>31.400</td>\n",
       "      <td>0</td>\n",
       "      <td>yes</td>\n",
       "      <td>southwest</td>\n",
       "    </tr>\n",
       "    <tr>\n",
       "      <th>144</th>\n",
       "      <td>22</td>\n",
       "      <td>female</td>\n",
       "      <td>30.400</td>\n",
       "      <td>0</td>\n",
       "      <td>yes</td>\n",
       "      <td>northwest</td>\n",
       "    </tr>\n",
       "  </tbody>\n",
       "</table>\n",
       "</div>"
      ],
      "text/plain": [
       "     age     sex     bmi  children smoker     region\n",
       "140   19  female  33.110         0    yes  southeast\n",
       "141   18    male  31.680         2    yes  southeast\n",
       "142   24    male  31.065         0    yes  northeast\n",
       "143   23  female  31.400         0    yes  southwest\n",
       "144   22  female  30.400         0    yes  northwest"
      ]
     },
     "execution_count": 16,
     "metadata": {},
     "output_type": "execute_result"
    }
   ],
   "source": [
    "X_base = base_insurance.drop('charges', axis='columns')\n",
    "X_base.head()"
   ]
  },
  {
   "cell_type": "code",
   "execution_count": 17,
   "metadata": {},
   "outputs": [],
   "source": [
    "column_trans = make_column_transformer(\n",
    "    (OneHotEncoder(), ['sex','smoker','region']),\n",
    "     remainder='passthrough')"
   ]
  },
  {
   "cell_type": "code",
   "execution_count": 18,
   "metadata": {},
   "outputs": [
    {
     "data": {
      "text/plain": [
       "array([[ 1.   ,  0.   ,  0.   , ..., 19.   , 33.11 ,  0.   ],\n",
       "       [ 0.   ,  1.   ,  0.   , ..., 18.   , 31.68 ,  2.   ],\n",
       "       [ 0.   ,  1.   ,  0.   , ..., 24.   , 31.065,  0.   ],\n",
       "       ...,\n",
       "       [ 0.   ,  1.   ,  1.   , ..., 18.   , 33.33 ,  0.   ],\n",
       "       [ 0.   ,  1.   ,  1.   , ..., 18.   , 30.14 ,  0.   ],\n",
       "       [ 0.   ,  1.   ,  1.   , ..., 18.   , 23.21 ,  0.   ]])"
      ]
     },
     "execution_count": 18,
     "metadata": {},
     "output_type": "execute_result"
    }
   ],
   "source": [
    "X_base = column_trans.fit_transform(X_base)\n",
    "X_base"
   ]
  },
  {
   "cell_type": "code",
   "execution_count": 19,
   "metadata": {},
   "outputs": [
    {
     "data": {
      "text/plain": [
       "140     34439\n",
       "141     34303\n",
       "142     34254\n",
       "143     34166\n",
       "144     33907\n",
       "        ...  \n",
       "1333     1137\n",
       "1334     1136\n",
       "1335     1135\n",
       "1336     1131\n",
       "1337     1121\n",
       "Name: charges, Length: 1198, dtype: int64"
      ]
     },
     "execution_count": 19,
     "metadata": {},
     "output_type": "execute_result"
    }
   ],
   "source": [
    "y_base = base_insurance.iloc[:,6]\n",
    "y_base"
   ]
  },
  {
   "cell_type": "code",
   "execution_count": 20,
   "metadata": {},
   "outputs": [],
   "source": [
    "X_base_treinamento, X_base_teste, y_base_treinamento, y_base_teste = train_test_split(X_base, y_base,test_size=0.3, random_state=1)\n"
   ]
  },
  {
   "cell_type": "code",
   "execution_count": 21,
   "metadata": {},
   "outputs": [
    {
     "name": "stdout",
     "output_type": "stream",
     "text": [
      "Treinamento X: (838, 11)\n",
      "Treinamento Y: (838,)\n",
      "Teste X: (360, 11)\n",
      "Teste Y: (360,)\n",
      "\n"
     ]
    }
   ],
   "source": [
    "print(f'Treinamento X: {X_base_treinamento.shape}')\n",
    "print(f'Treinamento Y: {y_base_treinamento.shape}')\n",
    "print(f'Teste X: {X_base_teste.shape}')\n",
    "print(f'Teste Y: {y_base_teste.shape}\\n')"
   ]
  },
  {
   "cell_type": "code",
   "execution_count": 22,
   "metadata": {},
   "outputs": [],
   "source": [
    "regressao = LinearRegression()"
   ]
  },
  {
   "cell_type": "code",
   "execution_count": 23,
   "metadata": {},
   "outputs": [
    {
     "data": {
      "text/html": [
       "<style>#sk-container-id-1 {color: black;background-color: white;}#sk-container-id-1 pre{padding: 0;}#sk-container-id-1 div.sk-toggleable {background-color: white;}#sk-container-id-1 label.sk-toggleable__label {cursor: pointer;display: block;width: 100%;margin-bottom: 0;padding: 0.3em;box-sizing: border-box;text-align: center;}#sk-container-id-1 label.sk-toggleable__label-arrow:before {content: \"▸\";float: left;margin-right: 0.25em;color: #696969;}#sk-container-id-1 label.sk-toggleable__label-arrow:hover:before {color: black;}#sk-container-id-1 div.sk-estimator:hover label.sk-toggleable__label-arrow:before {color: black;}#sk-container-id-1 div.sk-toggleable__content {max-height: 0;max-width: 0;overflow: hidden;text-align: left;background-color: #f0f8ff;}#sk-container-id-1 div.sk-toggleable__content pre {margin: 0.2em;color: black;border-radius: 0.25em;background-color: #f0f8ff;}#sk-container-id-1 input.sk-toggleable__control:checked~div.sk-toggleable__content {max-height: 200px;max-width: 100%;overflow: auto;}#sk-container-id-1 input.sk-toggleable__control:checked~label.sk-toggleable__label-arrow:before {content: \"▾\";}#sk-container-id-1 div.sk-estimator input.sk-toggleable__control:checked~label.sk-toggleable__label {background-color: #d4ebff;}#sk-container-id-1 div.sk-label input.sk-toggleable__control:checked~label.sk-toggleable__label {background-color: #d4ebff;}#sk-container-id-1 input.sk-hidden--visually {border: 0;clip: rect(1px 1px 1px 1px);clip: rect(1px, 1px, 1px, 1px);height: 1px;margin: -1px;overflow: hidden;padding: 0;position: absolute;width: 1px;}#sk-container-id-1 div.sk-estimator {font-family: monospace;background-color: #f0f8ff;border: 1px dotted black;border-radius: 0.25em;box-sizing: border-box;margin-bottom: 0.5em;}#sk-container-id-1 div.sk-estimator:hover {background-color: #d4ebff;}#sk-container-id-1 div.sk-parallel-item::after {content: \"\";width: 100%;border-bottom: 1px solid gray;flex-grow: 1;}#sk-container-id-1 div.sk-label:hover label.sk-toggleable__label {background-color: #d4ebff;}#sk-container-id-1 div.sk-serial::before {content: \"\";position: absolute;border-left: 1px solid gray;box-sizing: border-box;top: 0;bottom: 0;left: 50%;z-index: 0;}#sk-container-id-1 div.sk-serial {display: flex;flex-direction: column;align-items: center;background-color: white;padding-right: 0.2em;padding-left: 0.2em;position: relative;}#sk-container-id-1 div.sk-item {position: relative;z-index: 1;}#sk-container-id-1 div.sk-parallel {display: flex;align-items: stretch;justify-content: center;background-color: white;position: relative;}#sk-container-id-1 div.sk-item::before, #sk-container-id-1 div.sk-parallel-item::before {content: \"\";position: absolute;border-left: 1px solid gray;box-sizing: border-box;top: 0;bottom: 0;left: 50%;z-index: -1;}#sk-container-id-1 div.sk-parallel-item {display: flex;flex-direction: column;z-index: 1;position: relative;background-color: white;}#sk-container-id-1 div.sk-parallel-item:first-child::after {align-self: flex-end;width: 50%;}#sk-container-id-1 div.sk-parallel-item:last-child::after {align-self: flex-start;width: 50%;}#sk-container-id-1 div.sk-parallel-item:only-child::after {width: 0;}#sk-container-id-1 div.sk-dashed-wrapped {border: 1px dashed gray;margin: 0 0.4em 0.5em 0.4em;box-sizing: border-box;padding-bottom: 0.4em;background-color: white;}#sk-container-id-1 div.sk-label label {font-family: monospace;font-weight: bold;display: inline-block;line-height: 1.2em;}#sk-container-id-1 div.sk-label-container {text-align: center;}#sk-container-id-1 div.sk-container {/* jupyter's `normalize.less` sets `[hidden] { display: none; }` but bootstrap.min.css set `[hidden] { display: none !important; }` so we also need the `!important` here to be able to override the default hidden behavior on the sphinx rendered scikit-learn.org. See: https://github.com/scikit-learn/scikit-learn/issues/21755 */display: inline-block !important;position: relative;}#sk-container-id-1 div.sk-text-repr-fallback {display: none;}</style><div id=\"sk-container-id-1\" class=\"sk-top-container\"><div class=\"sk-text-repr-fallback\"><pre>LinearRegression()</pre><b>In a Jupyter environment, please rerun this cell to show the HTML representation or trust the notebook. <br />On GitHub, the HTML representation is unable to render, please try loading this page with nbviewer.org.</b></div><div class=\"sk-container\" hidden><div class=\"sk-item\"><div class=\"sk-estimator sk-toggleable\"><input class=\"sk-toggleable__control sk-hidden--visually\" id=\"sk-estimator-id-1\" type=\"checkbox\" checked><label for=\"sk-estimator-id-1\" class=\"sk-toggleable__label sk-toggleable__label-arrow\">LinearRegression</label><div class=\"sk-toggleable__content\"><pre>LinearRegression()</pre></div></div></div></div></div>"
      ],
      "text/plain": [
       "LinearRegression()"
      ]
     },
     "execution_count": 23,
     "metadata": {},
     "output_type": "execute_result"
    }
   ],
   "source": [
    "resultado = regressao.fit(X_base_treinamento, y_base_treinamento)\n",
    "resultado"
   ]
  },
  {
   "cell_type": "code",
   "execution_count": 24,
   "metadata": {},
   "outputs": [
    {
     "name": "stdout",
     "output_type": "stream",
     "text": [
      "B0: 3172.7303931705164\n",
      "B1: [  210.35994443  -210.35994443 -7017.98410916  7017.98410916\n",
      "   857.21591143   427.71902596  -363.78537495  -921.14956243\n",
      "   253.68051419    59.52739813   440.71324268]\n",
      "Accuracy: 61.197701836205596\n"
     ]
    }
   ],
   "source": [
    "print(f'B0: {resultado.intercept_}')\n",
    "print(f'B1: {resultado.coef_}')\n",
    "print(f'Accuracy: {resultado.score(X_base_treinamento,y_base_treinamento)*100}')"
   ]
  },
  {
   "cell_type": "code",
   "execution_count": 25,
   "metadata": {},
   "outputs": [
    {
     "name": "stdout",
     "output_type": "stream",
     "text": [
      "Mean Absolute: 2677.498215070583\n",
      "Mean Squared: 22316305.200435862\n"
     ]
    }
   ],
   "source": [
    "previsao = regressao.predict(X_base_teste)\n",
    "print(f'Mean Absolute: {mean_absolute_error(y_base_teste, previsao)}')\n",
    "print(f'Mean Squared: {mean_squared_error(y_base_teste, previsao)}')"
   ]
  },
  {
   "cell_type": "code",
   "execution_count": 26,
   "metadata": {},
   "outputs": [
    {
     "data": {
      "text/plain": [
       "array([11934.29437046, 10896.56023718, 12102.75667709, 15984.48002109,\n",
       "        4323.20881473,  5560.18471843, 19557.1851611 ,  2923.00478265,\n",
       "        7349.61373919, 12856.42148489,  4704.42348481, 24241.20564931,\n",
       "        8519.15636399,  2538.25403729,  2754.4316527 ,  7522.67647124,\n",
       "        7908.7894841 ,  4424.4697354 , 12056.82085706,  2247.7374342 ,\n",
       "        4814.91183125, 12061.95750916,  2945.3756401 , 10912.21824905,\n",
       "       12686.67543498,  4961.14539181, 11793.55396649, 13321.55377387,\n",
       "        6098.48132389, 14122.21034583,  3171.81251175, 12178.90007125,\n",
       "        5611.00359049,  9950.64040841,  7345.26056019,  6321.22626101,\n",
       "       10537.26681913, 14084.05444578, 12794.827653  ,  9472.20198824,\n",
       "        9033.86368608,  2846.27890943,  9928.20759342,  8385.45177974,\n",
       "       13359.8490424 , 10147.29068079,  7352.1313085 ,  5150.37749496,\n",
       "        6521.69151646,  8072.723081  ,  2883.41906289,  6446.86876636,\n",
       "        3679.34860374,  7355.59235915, 11519.98275217, 15528.04369335,\n",
       "        9711.57366463,  8378.07509525, 11210.84865677,  5172.78153472,\n",
       "        2279.57793454, 17823.07394536,  4991.52066068, 12068.10380572,\n",
       "        7121.07652809,  3947.92771226,  6117.80413087, 15217.73162563,\n",
       "        6515.88070823, 10200.25803469, 13023.07608208,  7463.511733  ,\n",
       "        6158.35365954,  6608.83724746, 13551.84407358,  9819.20170156,\n",
       "       21737.90586894,  8873.38352564,  1371.09604089, 12700.42437244,\n",
       "       17113.90305717, 11100.22094185, 23304.02724855, 11869.17582941,\n",
       "        9970.02660248,  9722.101     ,  8534.79748639, 11540.95992002,\n",
       "       14493.55797743, 11269.02746851,  7357.28438295,  6481.06320002,\n",
       "        6323.8567661 ,  9833.56931249, 23343.350067  , 11125.24534928,\n",
       "       21962.61344416, 13579.79690346,  6030.69464753, 15310.50649389,\n",
       "        7725.92352881,  4183.13854077, 13218.57558721, 13767.24616462,\n",
       "        4542.85239929, 22606.40528519, 10403.49188947,  6935.63670276,\n",
       "       17128.11790186, 14441.21888486, 13698.74087641, 10764.89394941,\n",
       "        5772.05402797, 11977.32893063,  3578.3334678 , 23616.92072879,\n",
       "        8223.84581387, 14225.82294923, 12934.3922893 , 13321.72883747,\n",
       "        3696.4761306 ,  5380.45167137,  1748.25378351,  7536.73714065,\n",
       "       11657.516922  , 11497.43338348, 17473.20258034, 11017.97401179,\n",
       "       13185.86061576,  8521.84463151,  5743.17736484,  5531.51166407,\n",
       "       12787.76113819, 22079.03755553,  6699.13786857,  3512.48479493,\n",
       "       28902.56282091,  3361.01662229, 11536.32387571,  9761.43722517,\n",
       "        8649.89943544, 10755.53426179,  8625.34797684, 15883.5583868 ,\n",
       "       24088.80880214, 13945.68651285,  3697.75386934,  8267.16704069,\n",
       "        3682.35425114, 11129.35443629,  6242.17073722, 16233.76097899,\n",
       "        9690.26994884, 11062.79994649, 11184.70184947, 16687.52806548,\n",
       "       27022.16613908,  3064.38235321,  7712.3362572 ,  7249.92512235,\n",
       "        3727.94084415, 20629.17632354, 12861.78346135,  9419.71797462,\n",
       "       23838.25018174,  4612.92635529, 13081.23722172,  2420.65801278,\n",
       "       17237.00802266,  9288.12694156,  5473.06422066,  8655.04297528,\n",
       "        3766.5500866 , 16902.42197274,  4894.08327077, 13284.51810852,\n",
       "        6076.53661913, 25897.28957024,  8990.6837026 ,  4440.39014631,\n",
       "       15757.91324829,  3471.28410472, 12480.37316048,  8307.96620861,\n",
       "        6217.07606981, 10968.04800042,  5955.96050589,  8690.32571166,\n",
       "        1075.38368811,  4792.59516207,  5871.44634298,  8031.20542775,\n",
       "        9250.26285376,  8087.41719853, 15591.59919342, 11392.93154683,\n",
       "        6095.13190843, 12119.27461257, 10773.04033352,  4315.12461825,\n",
       "       10746.62819695,  4775.47088788, 12025.314977  ,  8323.84147521,\n",
       "       10916.95171595, 14586.43696106,  6498.36584078,  6236.14709947,\n",
       "        7595.05421579, 13968.8269434 , 25285.05643586,  3175.24519504,\n",
       "       26430.20609004, 27330.45624853,  7958.53372392, 13063.835605  ,\n",
       "       12278.47919993, 11146.70452224, 14144.0377997 ,  6942.21344151,\n",
       "       20350.75705877,  9259.36253459,  1652.79944999, 12854.82325924,\n",
       "        5003.44893695,  2713.25779443,  5752.76172642, 13947.2584088 ,\n",
       "       12551.55411625,  9607.92729126, 11811.73804562, 11073.91274086,\n",
       "       19062.07533248, 17737.77896483, 13047.21358927,  8861.4905787 ,\n",
       "        4673.03888997, 10858.21314854,  4246.43471369, 12167.004927  ,\n",
       "       11290.81920911,  2682.927877  ,  3893.5760587 , 13278.38437978,\n",
       "       10780.53591368, 10484.44299553,  7640.2497402 ,  6611.3802042 ,\n",
       "        1323.47412239,  4388.49480228, 18491.3213028 , 10563.83094228,\n",
       "        8512.6786956 ,  2846.27890943, 13487.76447785,  3228.06002796,\n",
       "       17435.73573427,  3814.81895453, 11156.10863343,  3848.73360929,\n",
       "        9900.75395663,  9234.28347178, 11919.08582832, 24111.52306187,\n",
       "        8209.51876039, 14083.13280986,  6751.398853  ,  6215.90842206,\n",
       "        2201.82965707,  1890.90904252, 10182.90359197, 12585.77566223,\n",
       "        2442.29837261, 24065.48312646,  8302.83795952, 18008.58971366,\n",
       "       19758.98382339,  6753.36611583, 17590.65244301, 15960.66906184,\n",
       "       11326.25420326,  2232.57405451,  9450.86592306,  6495.33779543,\n",
       "        4866.0986857 ,  7662.94118514,  8689.5207238 ,  7962.26791686,\n",
       "        4259.97385186, 14127.41578397, 11447.47001406, 13786.82518309,\n",
       "        4817.01735748,  9319.66022002,  7804.02126338, 19847.94331867,\n",
       "        7656.29341275,  2395.17778527,  2839.73089563, 12154.58758588,\n",
       "       10141.40742423,  9947.08570428, 11833.97431739,  5927.58523318,\n",
       "       20685.00927431,  5450.03613168,  9059.89720058,  6920.3045003 ,\n",
       "        4079.01056154, 12950.45270664,  4535.22616097,  9862.15429907,\n",
       "        5965.6472848 ,  6658.33893073, 12394.94313611, 10431.91351514,\n",
       "        2407.88224201, 24078.24535481, 16237.20274607, 10204.53078115,\n",
       "       13521.64764959, 11625.70905143,  7183.87205809, 10113.41893136,\n",
       "        9859.92303352, 22858.99501002, 13040.64253956,  9340.96315319,\n",
       "        8918.33253597, 11123.69497669, 17183.73701207,  2537.94960693,\n",
       "       12906.71626128,  4101.69163896,  5780.6271173 , 10628.24965975,\n",
       "       12352.82640463, 14888.30530782, 11004.52783885, 25228.12993467,\n",
       "        5926.69842732, 10861.66809407, 18775.12143288,  3705.14306837,\n",
       "        3393.96626047, 14267.64479357,  6706.80553239,  5291.93623425,\n",
       "        9600.40280016,  4095.27060562,  7220.76867741,  4186.33499207,\n",
       "       13209.58393227, 22249.10497555,  3153.97103711,  7059.98417204,\n",
       "        2130.89839981, 17619.66516269,  2947.66308255,  5725.28596309])"
      ]
     },
     "execution_count": 26,
     "metadata": {},
     "output_type": "execute_result"
    }
   ],
   "source": [
    "previsao"
   ]
  },
  {
   "cell_type": "code",
   "execution_count": 27,
   "metadata": {},
   "outputs": [
    {
     "data": {
      "text/html": [
       "<div>\n",
       "<style scoped>\n",
       "    .dataframe tbody tr th:only-of-type {\n",
       "        vertical-align: middle;\n",
       "    }\n",
       "\n",
       "    .dataframe tbody tr th {\n",
       "        vertical-align: top;\n",
       "    }\n",
       "\n",
       "    .dataframe thead th {\n",
       "        text-align: right;\n",
       "    }\n",
       "</style>\n",
       "<table border=\"1\" class=\"dataframe\">\n",
       "  <thead>\n",
       "    <tr style=\"text-align: right;\">\n",
       "      <th></th>\n",
       "      <th>Objetivo</th>\n",
       "      <th>Previsto</th>\n",
       "    </tr>\n",
       "  </thead>\n",
       "  <tbody>\n",
       "    <tr>\n",
       "      <th>604</th>\n",
       "      <td>10381</td>\n",
       "      <td>11934.29</td>\n",
       "    </tr>\n",
       "    <tr>\n",
       "      <th>742</th>\n",
       "      <td>8334</td>\n",
       "      <td>10896.56</td>\n",
       "    </tr>\n",
       "    <tr>\n",
       "      <th>627</th>\n",
       "      <td>9964</td>\n",
       "      <td>12102.76</td>\n",
       "    </tr>\n",
       "    <tr>\n",
       "      <th>329</th>\n",
       "      <td>17081</td>\n",
       "      <td>15984.48</td>\n",
       "    </tr>\n",
       "    <tr>\n",
       "      <th>1158</th>\n",
       "      <td>2842</td>\n",
       "      <td>4323.21</td>\n",
       "    </tr>\n",
       "    <tr>\n",
       "      <th>...</th>\n",
       "      <td>...</td>\n",
       "      <td>...</td>\n",
       "    </tr>\n",
       "    <tr>\n",
       "      <th>999</th>\n",
       "      <td>4753</td>\n",
       "      <td>7059.98</td>\n",
       "    </tr>\n",
       "    <tr>\n",
       "      <th>1335</th>\n",
       "      <td>1135</td>\n",
       "      <td>2130.90</td>\n",
       "    </tr>\n",
       "    <tr>\n",
       "      <th>145</th>\n",
       "      <td>33900</td>\n",
       "      <td>17619.67</td>\n",
       "    </tr>\n",
       "    <tr>\n",
       "      <th>1260</th>\n",
       "      <td>1877</td>\n",
       "      <td>2947.66</td>\n",
       "    </tr>\n",
       "    <tr>\n",
       "      <th>981</th>\n",
       "      <td>4934</td>\n",
       "      <td>5725.29</td>\n",
       "    </tr>\n",
       "  </tbody>\n",
       "</table>\n",
       "<p>360 rows × 2 columns</p>\n",
       "</div>"
      ],
      "text/plain": [
       "      Objetivo  Previsto\n",
       "604      10381  11934.29\n",
       "742       8334  10896.56\n",
       "627       9964  12102.76\n",
       "329      17081  15984.48\n",
       "1158      2842   4323.21\n",
       "...        ...       ...\n",
       "999       4753   7059.98\n",
       "1335      1135   2130.90\n",
       "145      33900  17619.67\n",
       "1260      1877   2947.66\n",
       "981       4934   5725.29\n",
       "\n",
       "[360 rows x 2 columns]"
      ]
     },
     "execution_count": 27,
     "metadata": {},
     "output_type": "execute_result"
    }
   ],
   "source": [
    "df = pd.DataFrame(y_base_teste)\n",
    "df['Previsto'] = np.round(previsao,2)\n",
    "df.rename(columns = {'charges' : 'Objetivo'}, inplace = True)\n",
    "df"
   ]
  },
  {
   "cell_type": "code",
   "execution_count": 28,
   "metadata": {},
   "outputs": [
    {
     "data": {
      "application/vnd.plotly.v1+json": {
       "config": {
        "plotlyServerURL": "https://plot.ly"
       },
       "data": [
        {
         "hovertemplate": "Objetivo=%{x}<br>Previsto=%{y}<extra></extra>",
         "legendgroup": "",
         "marker": {
          "color": "#636efa",
          "symbol": "circle"
         },
         "mode": "markers",
         "name": "",
         "orientation": "v",
         "showlegend": false,
         "type": "scatter",
         "x": [
          10381,
          8334,
          9964,
          17081,
          2842,
          3947,
          16138,
          1708,
          4686,
          11356,
          2721,
          19798,
          6877,
          2913,
          16586,
          5028,
          5976,
          3847,
          10115,
          2585,
          3044,
          10072,
          13126,
          8765,
          10797,
          3206,
          10197,
          12928,
          4827,
          13429,
          1674,
          9866,
          4189,
          8556,
          24671,
          4562,
          8871,
          14349,
          10848,
          18806,
          6940,
          1631,
          26140,
          23563,
          11763,
          7804,
          5354,
          2897,
          4433,
          7151,
          1708,
          4564,
          2026,
          5478,
          10450,
          16297,
          9101,
          5709,
          9282,
          2755,
          1875,
          17043,
          5080,
          12333,
          19214,
          2719,
          4670,
          15019,
          5012,
          7727,
          12044,
          5266,
          4751,
          5240,
          28923,
          8219,
          19515,
          6334,
          1728,
          12363,
          14283,
          9386,
          19964,
          10231,
          8059,
          8522,
          7623,
          12032,
          14449,
          9500,
          5245,
          4399,
          4040,
          7050,
          23568,
          9304,
          21472,
          11396,
          4466,
          14410,
          6186,
          2731,
          11436,
          12815,
          3279,
          20296,
          8347,
          4347,
          33750,
          13555,
          11566,
          9391,
          3490,
          26392,
          2527,
          23065,
          6113,
          13831,
          12557,
          12265,
          22493,
          22395,
          1837,
          5458,
          11837,
          20781,
          17178,
          9095,
          12224,
          5989,
          3925,
          3385,
          11735,
          20773,
          4500,
          2709,
          30184,
          2801,
          9869,
          8232,
          6112,
          10214,
          7243,
          16085,
          21880,
          12495,
          12890,
          6123,
          2775,
          9249,
          3935,
          16069,
          7261,
          8569,
          8944,
          13747,
          27218,
          1712,
          5272,
          4992,
          2974,
          18972,
          10736,
          6600,
          21259,
          2741,
          12574,
          1621,
          14711,
          6373,
          3366,
          7046,
          2261,
          15518,
          3046,
          11512,
          4058,
          23887,
          6781,
          2480,
          16232,
          25081,
          12638,
          6203,
          5152,
          10107,
          4746,
          7160,
          1242,
          3392,
          4915,
          5400,
          24915,
          6198,
          13844,
          9620,
          21984,
          11743,
          8083,
          24059,
          9377,
          3277,
          12957,
          6640,
          7935,
          13228,
          4237,
          3875,
          5124,
          27941,
          23244,
          18955,
          24106,
          27808,
          5377,
          12244,
          25333,
          8671,
          13887,
          4894,
          16657,
          6837,
          1256,
          12124,
          3579,
          1632,
          3704,
          14001,
          11165,
          9264,
          10226,
          9361,
          17496,
          33475,
          12646,
          6985,
          3561,
          9872,
          2404,
          10407,
          8964,
          1727,
          1917,
          12479,
          9487,
          8413,
          5855,
          4463,
          1727,
          3597,
          19933,
          9563,
          6770,
          14133,
          12648,
          2219,
          33307,
          2362,
          11070,
          3056,
          8428,
          5757,
          10493,
          21771,
          5438,
          13217,
          3994,
          5325,
          1526,
          1261,
          10065,
          10976,
          2201,
          19594,
          5920,
          18328,
          14455,
          4571,
          17560,
          16884,
          8733,
          1621,
          7731,
          4137,
          2855,
          6496,
          7418,
          5428,
          2643,
          14235,
          30284,
          12730,
          2699,
          7153,
          5974,
          15820,
          5227,
          2331,
          1631,
          10942,
          8596,
          7358,
          12094,
          3645,
          17904,
          3757,
          6356,
          11326,
          2639,
          11286,
          3172,
          8457,
          3556,
          5002,
          11015,
          10096,
          1625,
          25309,
          32548,
          8125,
          12096,
          9877,
          4795,
          8026,
          7265,
          22478,
          12523,
          8277,
          6796,
          11345,
          34166,
          1628,
          10959,
          3260,
          3201,
          8827,
          11534,
          15161,
          8988,
          24393,
          4074,
          9634,
          34254,
          2134,
          2416,
          14254,
          4441,
          3238,
          7421,
          2396,
          5415,
          2217,
          24227,
          20984,
          2221,
          4753,
          1135,
          33900,
          1877,
          4934
         ],
         "xaxis": "x",
         "y": [
          11934.29,
          10896.56,
          12102.76,
          15984.48,
          4323.21,
          5560.18,
          19557.19,
          2923,
          7349.61,
          12856.42,
          4704.42,
          24241.21,
          8519.16,
          2538.25,
          2754.43,
          7522.68,
          7908.79,
          4424.47,
          12056.82,
          2247.74,
          4814.91,
          12061.96,
          2945.38,
          10912.22,
          12686.68,
          4961.15,
          11793.55,
          13321.55,
          6098.48,
          14122.21,
          3171.81,
          12178.9,
          5611,
          9950.64,
          7345.26,
          6321.23,
          10537.27,
          14084.05,
          12794.83,
          9472.2,
          9033.86,
          2846.28,
          9928.21,
          8385.45,
          13359.85,
          10147.29,
          7352.13,
          5150.38,
          6521.69,
          8072.72,
          2883.42,
          6446.87,
          3679.35,
          7355.59,
          11519.98,
          15528.04,
          9711.57,
          8378.08,
          11210.85,
          5172.78,
          2279.58,
          17823.07,
          4991.52,
          12068.1,
          7121.08,
          3947.93,
          6117.8,
          15217.73,
          6515.88,
          10200.26,
          13023.08,
          7463.51,
          6158.35,
          6608.84,
          13551.84,
          9819.2,
          21737.91,
          8873.38,
          1371.1,
          12700.42,
          17113.9,
          11100.22,
          23304.03,
          11869.18,
          9970.03,
          9722.1,
          8534.8,
          11540.96,
          14493.56,
          11269.03,
          7357.28,
          6481.06,
          6323.86,
          9833.57,
          23343.35,
          11125.25,
          21962.61,
          13579.8,
          6030.69,
          15310.51,
          7725.92,
          4183.14,
          13218.58,
          13767.25,
          4542.85,
          22606.41,
          10403.49,
          6935.64,
          17128.12,
          14441.22,
          13698.74,
          10764.89,
          5772.05,
          11977.33,
          3578.33,
          23616.92,
          8223.85,
          14225.82,
          12934.39,
          13321.73,
          3696.48,
          5380.45,
          1748.25,
          7536.74,
          11657.52,
          11497.43,
          17473.2,
          11017.97,
          13185.86,
          8521.84,
          5743.18,
          5531.51,
          12787.76,
          22079.04,
          6699.14,
          3512.48,
          28902.56,
          3361.02,
          11536.32,
          9761.44,
          8649.9,
          10755.53,
          8625.35,
          15883.56,
          24088.81,
          13945.69,
          3697.75,
          8267.17,
          3682.35,
          11129.35,
          6242.17,
          16233.76,
          9690.27,
          11062.8,
          11184.7,
          16687.53,
          27022.17,
          3064.38,
          7712.34,
          7249.93,
          3727.94,
          20629.18,
          12861.78,
          9419.72,
          23838.25,
          4612.93,
          13081.24,
          2420.66,
          17237.01,
          9288.13,
          5473.06,
          8655.04,
          3766.55,
          16902.42,
          4894.08,
          13284.52,
          6076.54,
          25897.29,
          8990.68,
          4440.39,
          15757.91,
          3471.28,
          12480.37,
          8307.97,
          6217.08,
          10968.05,
          5955.96,
          8690.33,
          1075.38,
          4792.6,
          5871.45,
          8031.21,
          9250.26,
          8087.42,
          15591.6,
          11392.93,
          6095.13,
          12119.27,
          10773.04,
          4315.12,
          10746.63,
          4775.47,
          12025.31,
          8323.84,
          10916.95,
          14586.44,
          6498.37,
          6236.15,
          7595.05,
          13968.83,
          25285.06,
          3175.25,
          26430.21,
          27330.46,
          7958.53,
          13063.84,
          12278.48,
          11146.7,
          14144.04,
          6942.21,
          20350.76,
          9259.36,
          1652.8,
          12854.82,
          5003.45,
          2713.26,
          5752.76,
          13947.26,
          12551.55,
          9607.93,
          11811.74,
          11073.91,
          19062.08,
          17737.78,
          13047.21,
          8861.49,
          4673.04,
          10858.21,
          4246.43,
          12167,
          11290.82,
          2682.93,
          3893.58,
          13278.38,
          10780.54,
          10484.44,
          7640.25,
          6611.38,
          1323.47,
          4388.49,
          18491.32,
          10563.83,
          8512.68,
          2846.28,
          13487.76,
          3228.06,
          17435.74,
          3814.82,
          11156.11,
          3848.73,
          9900.75,
          9234.28,
          11919.09,
          24111.52,
          8209.52,
          14083.13,
          6751.4,
          6215.91,
          2201.83,
          1890.91,
          10182.9,
          12585.78,
          2442.3,
          24065.48,
          8302.84,
          18008.59,
          19758.98,
          6753.37,
          17590.65,
          15960.67,
          11326.25,
          2232.57,
          9450.87,
          6495.34,
          4866.1,
          7662.94,
          8689.52,
          7962.27,
          4259.97,
          14127.42,
          11447.47,
          13786.83,
          4817.02,
          9319.66,
          7804.02,
          19847.94,
          7656.29,
          2395.18,
          2839.73,
          12154.59,
          10141.41,
          9947.09,
          11833.97,
          5927.59,
          20685.01,
          5450.04,
          9059.9,
          6920.3,
          4079.01,
          12950.45,
          4535.23,
          9862.15,
          5965.65,
          6658.34,
          12394.94,
          10431.91,
          2407.88,
          24078.25,
          16237.2,
          10204.53,
          13521.65,
          11625.71,
          7183.87,
          10113.42,
          9859.92,
          22859,
          13040.64,
          9340.96,
          8918.33,
          11123.69,
          17183.74,
          2537.95,
          12906.72,
          4101.69,
          5780.63,
          10628.25,
          12352.83,
          14888.31,
          11004.53,
          25228.13,
          5926.7,
          10861.67,
          18775.12,
          3705.14,
          3393.97,
          14267.64,
          6706.81,
          5291.94,
          9600.4,
          4095.27,
          7220.77,
          4186.33,
          13209.58,
          22249.1,
          3153.97,
          7059.98,
          2130.9,
          17619.67,
          2947.66,
          5725.29
         ],
         "yaxis": "y"
        }
       ],
       "layout": {
        "legend": {
         "tracegroupgap": 0
        },
        "template": {
         "data": {
          "bar": [
           {
            "error_x": {
             "color": "#2a3f5f"
            },
            "error_y": {
             "color": "#2a3f5f"
            },
            "marker": {
             "line": {
              "color": "#E5ECF6",
              "width": 0.5
             },
             "pattern": {
              "fillmode": "overlay",
              "size": 10,
              "solidity": 0.2
             }
            },
            "type": "bar"
           }
          ],
          "barpolar": [
           {
            "marker": {
             "line": {
              "color": "#E5ECF6",
              "width": 0.5
             },
             "pattern": {
              "fillmode": "overlay",
              "size": 10,
              "solidity": 0.2
             }
            },
            "type": "barpolar"
           }
          ],
          "carpet": [
           {
            "aaxis": {
             "endlinecolor": "#2a3f5f",
             "gridcolor": "white",
             "linecolor": "white",
             "minorgridcolor": "white",
             "startlinecolor": "#2a3f5f"
            },
            "baxis": {
             "endlinecolor": "#2a3f5f",
             "gridcolor": "white",
             "linecolor": "white",
             "minorgridcolor": "white",
             "startlinecolor": "#2a3f5f"
            },
            "type": "carpet"
           }
          ],
          "choropleth": [
           {
            "colorbar": {
             "outlinewidth": 0,
             "ticks": ""
            },
            "type": "choropleth"
           }
          ],
          "contour": [
           {
            "colorbar": {
             "outlinewidth": 0,
             "ticks": ""
            },
            "colorscale": [
             [
              0,
              "#0d0887"
             ],
             [
              0.1111111111111111,
              "#46039f"
             ],
             [
              0.2222222222222222,
              "#7201a8"
             ],
             [
              0.3333333333333333,
              "#9c179e"
             ],
             [
              0.4444444444444444,
              "#bd3786"
             ],
             [
              0.5555555555555556,
              "#d8576b"
             ],
             [
              0.6666666666666666,
              "#ed7953"
             ],
             [
              0.7777777777777778,
              "#fb9f3a"
             ],
             [
              0.8888888888888888,
              "#fdca26"
             ],
             [
              1,
              "#f0f921"
             ]
            ],
            "type": "contour"
           }
          ],
          "contourcarpet": [
           {
            "colorbar": {
             "outlinewidth": 0,
             "ticks": ""
            },
            "type": "contourcarpet"
           }
          ],
          "heatmap": [
           {
            "colorbar": {
             "outlinewidth": 0,
             "ticks": ""
            },
            "colorscale": [
             [
              0,
              "#0d0887"
             ],
             [
              0.1111111111111111,
              "#46039f"
             ],
             [
              0.2222222222222222,
              "#7201a8"
             ],
             [
              0.3333333333333333,
              "#9c179e"
             ],
             [
              0.4444444444444444,
              "#bd3786"
             ],
             [
              0.5555555555555556,
              "#d8576b"
             ],
             [
              0.6666666666666666,
              "#ed7953"
             ],
             [
              0.7777777777777778,
              "#fb9f3a"
             ],
             [
              0.8888888888888888,
              "#fdca26"
             ],
             [
              1,
              "#f0f921"
             ]
            ],
            "type": "heatmap"
           }
          ],
          "heatmapgl": [
           {
            "colorbar": {
             "outlinewidth": 0,
             "ticks": ""
            },
            "colorscale": [
             [
              0,
              "#0d0887"
             ],
             [
              0.1111111111111111,
              "#46039f"
             ],
             [
              0.2222222222222222,
              "#7201a8"
             ],
             [
              0.3333333333333333,
              "#9c179e"
             ],
             [
              0.4444444444444444,
              "#bd3786"
             ],
             [
              0.5555555555555556,
              "#d8576b"
             ],
             [
              0.6666666666666666,
              "#ed7953"
             ],
             [
              0.7777777777777778,
              "#fb9f3a"
             ],
             [
              0.8888888888888888,
              "#fdca26"
             ],
             [
              1,
              "#f0f921"
             ]
            ],
            "type": "heatmapgl"
           }
          ],
          "histogram": [
           {
            "marker": {
             "pattern": {
              "fillmode": "overlay",
              "size": 10,
              "solidity": 0.2
             }
            },
            "type": "histogram"
           }
          ],
          "histogram2d": [
           {
            "colorbar": {
             "outlinewidth": 0,
             "ticks": ""
            },
            "colorscale": [
             [
              0,
              "#0d0887"
             ],
             [
              0.1111111111111111,
              "#46039f"
             ],
             [
              0.2222222222222222,
              "#7201a8"
             ],
             [
              0.3333333333333333,
              "#9c179e"
             ],
             [
              0.4444444444444444,
              "#bd3786"
             ],
             [
              0.5555555555555556,
              "#d8576b"
             ],
             [
              0.6666666666666666,
              "#ed7953"
             ],
             [
              0.7777777777777778,
              "#fb9f3a"
             ],
             [
              0.8888888888888888,
              "#fdca26"
             ],
             [
              1,
              "#f0f921"
             ]
            ],
            "type": "histogram2d"
           }
          ],
          "histogram2dcontour": [
           {
            "colorbar": {
             "outlinewidth": 0,
             "ticks": ""
            },
            "colorscale": [
             [
              0,
              "#0d0887"
             ],
             [
              0.1111111111111111,
              "#46039f"
             ],
             [
              0.2222222222222222,
              "#7201a8"
             ],
             [
              0.3333333333333333,
              "#9c179e"
             ],
             [
              0.4444444444444444,
              "#bd3786"
             ],
             [
              0.5555555555555556,
              "#d8576b"
             ],
             [
              0.6666666666666666,
              "#ed7953"
             ],
             [
              0.7777777777777778,
              "#fb9f3a"
             ],
             [
              0.8888888888888888,
              "#fdca26"
             ],
             [
              1,
              "#f0f921"
             ]
            ],
            "type": "histogram2dcontour"
           }
          ],
          "mesh3d": [
           {
            "colorbar": {
             "outlinewidth": 0,
             "ticks": ""
            },
            "type": "mesh3d"
           }
          ],
          "parcoords": [
           {
            "line": {
             "colorbar": {
              "outlinewidth": 0,
              "ticks": ""
             }
            },
            "type": "parcoords"
           }
          ],
          "pie": [
           {
            "automargin": true,
            "type": "pie"
           }
          ],
          "scatter": [
           {
            "fillpattern": {
             "fillmode": "overlay",
             "size": 10,
             "solidity": 0.2
            },
            "type": "scatter"
           }
          ],
          "scatter3d": [
           {
            "line": {
             "colorbar": {
              "outlinewidth": 0,
              "ticks": ""
             }
            },
            "marker": {
             "colorbar": {
              "outlinewidth": 0,
              "ticks": ""
             }
            },
            "type": "scatter3d"
           }
          ],
          "scattercarpet": [
           {
            "marker": {
             "colorbar": {
              "outlinewidth": 0,
              "ticks": ""
             }
            },
            "type": "scattercarpet"
           }
          ],
          "scattergeo": [
           {
            "marker": {
             "colorbar": {
              "outlinewidth": 0,
              "ticks": ""
             }
            },
            "type": "scattergeo"
           }
          ],
          "scattergl": [
           {
            "marker": {
             "colorbar": {
              "outlinewidth": 0,
              "ticks": ""
             }
            },
            "type": "scattergl"
           }
          ],
          "scattermapbox": [
           {
            "marker": {
             "colorbar": {
              "outlinewidth": 0,
              "ticks": ""
             }
            },
            "type": "scattermapbox"
           }
          ],
          "scatterpolar": [
           {
            "marker": {
             "colorbar": {
              "outlinewidth": 0,
              "ticks": ""
             }
            },
            "type": "scatterpolar"
           }
          ],
          "scatterpolargl": [
           {
            "marker": {
             "colorbar": {
              "outlinewidth": 0,
              "ticks": ""
             }
            },
            "type": "scatterpolargl"
           }
          ],
          "scatterternary": [
           {
            "marker": {
             "colorbar": {
              "outlinewidth": 0,
              "ticks": ""
             }
            },
            "type": "scatterternary"
           }
          ],
          "surface": [
           {
            "colorbar": {
             "outlinewidth": 0,
             "ticks": ""
            },
            "colorscale": [
             [
              0,
              "#0d0887"
             ],
             [
              0.1111111111111111,
              "#46039f"
             ],
             [
              0.2222222222222222,
              "#7201a8"
             ],
             [
              0.3333333333333333,
              "#9c179e"
             ],
             [
              0.4444444444444444,
              "#bd3786"
             ],
             [
              0.5555555555555556,
              "#d8576b"
             ],
             [
              0.6666666666666666,
              "#ed7953"
             ],
             [
              0.7777777777777778,
              "#fb9f3a"
             ],
             [
              0.8888888888888888,
              "#fdca26"
             ],
             [
              1,
              "#f0f921"
             ]
            ],
            "type": "surface"
           }
          ],
          "table": [
           {
            "cells": {
             "fill": {
              "color": "#EBF0F8"
             },
             "line": {
              "color": "white"
             }
            },
            "header": {
             "fill": {
              "color": "#C8D4E3"
             },
             "line": {
              "color": "white"
             }
            },
            "type": "table"
           }
          ]
         },
         "layout": {
          "annotationdefaults": {
           "arrowcolor": "#2a3f5f",
           "arrowhead": 0,
           "arrowwidth": 1
          },
          "autotypenumbers": "strict",
          "coloraxis": {
           "colorbar": {
            "outlinewidth": 0,
            "ticks": ""
           }
          },
          "colorscale": {
           "diverging": [
            [
             0,
             "#8e0152"
            ],
            [
             0.1,
             "#c51b7d"
            ],
            [
             0.2,
             "#de77ae"
            ],
            [
             0.3,
             "#f1b6da"
            ],
            [
             0.4,
             "#fde0ef"
            ],
            [
             0.5,
             "#f7f7f7"
            ],
            [
             0.6,
             "#e6f5d0"
            ],
            [
             0.7,
             "#b8e186"
            ],
            [
             0.8,
             "#7fbc41"
            ],
            [
             0.9,
             "#4d9221"
            ],
            [
             1,
             "#276419"
            ]
           ],
           "sequential": [
            [
             0,
             "#0d0887"
            ],
            [
             0.1111111111111111,
             "#46039f"
            ],
            [
             0.2222222222222222,
             "#7201a8"
            ],
            [
             0.3333333333333333,
             "#9c179e"
            ],
            [
             0.4444444444444444,
             "#bd3786"
            ],
            [
             0.5555555555555556,
             "#d8576b"
            ],
            [
             0.6666666666666666,
             "#ed7953"
            ],
            [
             0.7777777777777778,
             "#fb9f3a"
            ],
            [
             0.8888888888888888,
             "#fdca26"
            ],
            [
             1,
             "#f0f921"
            ]
           ],
           "sequentialminus": [
            [
             0,
             "#0d0887"
            ],
            [
             0.1111111111111111,
             "#46039f"
            ],
            [
             0.2222222222222222,
             "#7201a8"
            ],
            [
             0.3333333333333333,
             "#9c179e"
            ],
            [
             0.4444444444444444,
             "#bd3786"
            ],
            [
             0.5555555555555556,
             "#d8576b"
            ],
            [
             0.6666666666666666,
             "#ed7953"
            ],
            [
             0.7777777777777778,
             "#fb9f3a"
            ],
            [
             0.8888888888888888,
             "#fdca26"
            ],
            [
             1,
             "#f0f921"
            ]
           ]
          },
          "colorway": [
           "#636efa",
           "#EF553B",
           "#00cc96",
           "#ab63fa",
           "#FFA15A",
           "#19d3f3",
           "#FF6692",
           "#B6E880",
           "#FF97FF",
           "#FECB52"
          ],
          "font": {
           "color": "#2a3f5f"
          },
          "geo": {
           "bgcolor": "white",
           "lakecolor": "white",
           "landcolor": "#E5ECF6",
           "showlakes": true,
           "showland": true,
           "subunitcolor": "white"
          },
          "hoverlabel": {
           "align": "left"
          },
          "hovermode": "closest",
          "mapbox": {
           "style": "light"
          },
          "paper_bgcolor": "white",
          "plot_bgcolor": "#E5ECF6",
          "polar": {
           "angularaxis": {
            "gridcolor": "white",
            "linecolor": "white",
            "ticks": ""
           },
           "bgcolor": "#E5ECF6",
           "radialaxis": {
            "gridcolor": "white",
            "linecolor": "white",
            "ticks": ""
           }
          },
          "scene": {
           "xaxis": {
            "backgroundcolor": "#E5ECF6",
            "gridcolor": "white",
            "gridwidth": 2,
            "linecolor": "white",
            "showbackground": true,
            "ticks": "",
            "zerolinecolor": "white"
           },
           "yaxis": {
            "backgroundcolor": "#E5ECF6",
            "gridcolor": "white",
            "gridwidth": 2,
            "linecolor": "white",
            "showbackground": true,
            "ticks": "",
            "zerolinecolor": "white"
           },
           "zaxis": {
            "backgroundcolor": "#E5ECF6",
            "gridcolor": "white",
            "gridwidth": 2,
            "linecolor": "white",
            "showbackground": true,
            "ticks": "",
            "zerolinecolor": "white"
           }
          },
          "shapedefaults": {
           "line": {
            "color": "#2a3f5f"
           }
          },
          "ternary": {
           "aaxis": {
            "gridcolor": "white",
            "linecolor": "white",
            "ticks": ""
           },
           "baxis": {
            "gridcolor": "white",
            "linecolor": "white",
            "ticks": ""
           },
           "bgcolor": "#E5ECF6",
           "caxis": {
            "gridcolor": "white",
            "linecolor": "white",
            "ticks": ""
           }
          },
          "title": {
           "x": 0.05
          },
          "xaxis": {
           "automargin": true,
           "gridcolor": "white",
           "linecolor": "white",
           "ticks": "",
           "title": {
            "standoff": 15
           },
           "zerolinecolor": "white",
           "zerolinewidth": 2
          },
          "yaxis": {
           "automargin": true,
           "gridcolor": "white",
           "linecolor": "white",
           "ticks": "",
           "title": {
            "standoff": 15
           },
           "zerolinecolor": "white",
           "zerolinewidth": 2
          }
         }
        },
        "title": {
         "text": "Preço Casas"
        },
        "xaxis": {
         "anchor": "y",
         "domain": [
          0,
          1
         ],
         "title": {
          "text": "Objetivo"
         }
        },
        "yaxis": {
         "anchor": "x",
         "domain": [
          0,
          1
         ],
         "title": {
          "text": "Previsto"
         }
        }
       }
      }
     },
     "metadata": {},
     "output_type": "display_data"
    }
   ],
   "source": [
    "grafico1 = px.scatter(df, x=\"Objetivo\", y=\"Previsto\",\n",
    "                title=\"Preço Casas\")\n",
    "grafico1.show()"
   ]
  },
  {
   "cell_type": "code",
   "execution_count": 29,
   "metadata": {},
   "outputs": [],
   "source": [
    "import plotly.offline as po\n"
   ]
  },
  {
   "cell_type": "code",
   "execution_count": 30,
   "metadata": {},
   "outputs": [
    {
     "data": {
      "application/vnd.plotly.v1+json": {
       "config": {
        "plotlyServerURL": "https://plot.ly"
       },
       "data": [
        {
         "marker": {
          "color": [
           0,
           0,
           0,
           0,
           0,
           0,
           0,
           0,
           0,
           0,
           0,
           0,
           0,
           0,
           1,
           0,
           0,
           0,
           0,
           0,
           0,
           0,
           1,
           0,
           0,
           0,
           0,
           0,
           0,
           0,
           0,
           0,
           0,
           0,
           1,
           0,
           0,
           0,
           0,
           1,
           0,
           0,
           1,
           1,
           0,
           0,
           0,
           0,
           0,
           0,
           0,
           0,
           0,
           0,
           0,
           0,
           0,
           0,
           0,
           0,
           0,
           0,
           0,
           0,
           1,
           0,
           0,
           0,
           0,
           0,
           0,
           0,
           0,
           0,
           1,
           0,
           0,
           0,
           0,
           0,
           0,
           0,
           0,
           0,
           0,
           0,
           0,
           0,
           0,
           0,
           0,
           0,
           0,
           0,
           0,
           0,
           0,
           0,
           0,
           0,
           0,
           0,
           0,
           0,
           0,
           0,
           0,
           0,
           1,
           0,
           0,
           0,
           0,
           1,
           0,
           0,
           0,
           0,
           0,
           0,
           1,
           1,
           0,
           0,
           0,
           1,
           0,
           0,
           0,
           0,
           0,
           0,
           0,
           0,
           0,
           0,
           0,
           0,
           0,
           0,
           0,
           0,
           0,
           0,
           0,
           0,
           1,
           0,
           0,
           0,
           0,
           0,
           0,
           0,
           0,
           0,
           0,
           0,
           0,
           0,
           0,
           0,
           0,
           0,
           0,
           0,
           0,
           0,
           0,
           0,
           0,
           0,
           0,
           0,
           0,
           0,
           0,
           0,
           0,
           0,
           0,
           1,
           0,
           0,
           0,
           0,
           0,
           0,
           0,
           0,
           0,
           0,
           1,
           0,
           0,
           0,
           1,
           0,
           0,
           1,
           0,
           0,
           0,
           0,
           0,
           0,
           0,
           0,
           0,
           1,
           0,
           1,
           0,
           0,
           0,
           0,
           1,
           0,
           0,
           0,
           0,
           0,
           0,
           0,
           0,
           0,
           0,
           0,
           0,
           0,
           0,
           0,
           0,
           1,
           0,
           0,
           0,
           0,
           0,
           0,
           0,
           0,
           0,
           0,
           0,
           0,
           0,
           0,
           0,
           0,
           0,
           0,
           0,
           1,
           0,
           0,
           1,
           0,
           0,
           0,
           0,
           0,
           0,
           0,
           0,
           0,
           0,
           0,
           0,
           0,
           0,
           0,
           0,
           0,
           0,
           0,
           0,
           0,
           0,
           0,
           0,
           0,
           0,
           0,
           0,
           0,
           0,
           0,
           0,
           0,
           1,
           0,
           0,
           0,
           0,
           0,
           0,
           0,
           0,
           0,
           0,
           0,
           0,
           0,
           0,
           0,
           0,
           1,
           0,
           0,
           0,
           0,
           0,
           0,
           0,
           0,
           0,
           0,
           1,
           0,
           0,
           0,
           0,
           0,
           0,
           0,
           0,
           0,
           0,
           0,
           1,
           0,
           0,
           0,
           0,
           0,
           0,
           0,
           0,
           0,
           0,
           0,
           1,
           0,
           0,
           0,
           0,
           0,
           0,
           0,
           0,
           0,
           1,
           0,
           0,
           0,
           0,
           1,
           0,
           0
          ],
          "colorscale": [
           [
            0,
            "blue"
           ],
           [
            1,
            "red"
           ]
          ]
         },
         "mode": "markers",
         "type": "scatter",
         "x": [
          10381,
          8334,
          9964,
          17081,
          2842,
          3947,
          16138,
          1708,
          4686,
          11356,
          2721,
          19798,
          6877,
          2913,
          16586,
          5028,
          5976,
          3847,
          10115,
          2585,
          3044,
          10072,
          13126,
          8765,
          10797,
          3206,
          10197,
          12928,
          4827,
          13429,
          1674,
          9866,
          4189,
          8556,
          24671,
          4562,
          8871,
          14349,
          10848,
          18806,
          6940,
          1631,
          26140,
          23563,
          11763,
          7804,
          5354,
          2897,
          4433,
          7151,
          1708,
          4564,
          2026,
          5478,
          10450,
          16297,
          9101,
          5709,
          9282,
          2755,
          1875,
          17043,
          5080,
          12333,
          19214,
          2719,
          4670,
          15019,
          5012,
          7727,
          12044,
          5266,
          4751,
          5240,
          28923,
          8219,
          19515,
          6334,
          1728,
          12363,
          14283,
          9386,
          19964,
          10231,
          8059,
          8522,
          7623,
          12032,
          14449,
          9500,
          5245,
          4399,
          4040,
          7050,
          23568,
          9304,
          21472,
          11396,
          4466,
          14410,
          6186,
          2731,
          11436,
          12815,
          3279,
          20296,
          8347,
          4347,
          33750,
          13555,
          11566,
          9391,
          3490,
          26392,
          2527,
          23065,
          6113,
          13831,
          12557,
          12265,
          22493,
          22395,
          1837,
          5458,
          11837,
          20781,
          17178,
          9095,
          12224,
          5989,
          3925,
          3385,
          11735,
          20773,
          4500,
          2709,
          30184,
          2801,
          9869,
          8232,
          6112,
          10214,
          7243,
          16085,
          21880,
          12495,
          12890,
          6123,
          2775,
          9249,
          3935,
          16069,
          7261,
          8569,
          8944,
          13747,
          27218,
          1712,
          5272,
          4992,
          2974,
          18972,
          10736,
          6600,
          21259,
          2741,
          12574,
          1621,
          14711,
          6373,
          3366,
          7046,
          2261,
          15518,
          3046,
          11512,
          4058,
          23887,
          6781,
          2480,
          16232,
          25081,
          12638,
          6203,
          5152,
          10107,
          4746,
          7160,
          1242,
          3392,
          4915,
          5400,
          24915,
          6198,
          13844,
          9620,
          21984,
          11743,
          8083,
          24059,
          9377,
          3277,
          12957,
          6640,
          7935,
          13228,
          4237,
          3875,
          5124,
          27941,
          23244,
          18955,
          24106,
          27808,
          5377,
          12244,
          25333,
          8671,
          13887,
          4894,
          16657,
          6837,
          1256,
          12124,
          3579,
          1632,
          3704,
          14001,
          11165,
          9264,
          10226,
          9361,
          17496,
          33475,
          12646,
          6985,
          3561,
          9872,
          2404,
          10407,
          8964,
          1727,
          1917,
          12479,
          9487,
          8413,
          5855,
          4463,
          1727,
          3597,
          19933,
          9563,
          6770,
          14133,
          12648,
          2219,
          33307,
          2362,
          11070,
          3056,
          8428,
          5757,
          10493,
          21771,
          5438,
          13217,
          3994,
          5325,
          1526,
          1261,
          10065,
          10976,
          2201,
          19594,
          5920,
          18328,
          14455,
          4571,
          17560,
          16884,
          8733,
          1621,
          7731,
          4137,
          2855,
          6496,
          7418,
          5428,
          2643,
          14235,
          30284,
          12730,
          2699,
          7153,
          5974,
          15820,
          5227,
          2331,
          1631,
          10942,
          8596,
          7358,
          12094,
          3645,
          17904,
          3757,
          6356,
          11326,
          2639,
          11286,
          3172,
          8457,
          3556,
          5002,
          11015,
          10096,
          1625,
          25309,
          32548,
          8125,
          12096,
          9877,
          4795,
          8026,
          7265,
          22478,
          12523,
          8277,
          6796,
          11345,
          34166,
          1628,
          10959,
          3260,
          3201,
          8827,
          11534,
          15161,
          8988,
          24393,
          4074,
          9634,
          34254,
          2134,
          2416,
          14254,
          4441,
          3238,
          7421,
          2396,
          5415,
          2217,
          24227,
          20984,
          2221,
          4753,
          1135,
          33900,
          1877,
          4934
         ],
         "y": [
          11934.29,
          10896.56,
          12102.76,
          15984.48,
          4323.21,
          5560.18,
          19557.19,
          2923,
          7349.61,
          12856.42,
          4704.42,
          24241.21,
          8519.16,
          2538.25,
          2754.43,
          7522.68,
          7908.79,
          4424.47,
          12056.82,
          2247.74,
          4814.91,
          12061.96,
          2945.38,
          10912.22,
          12686.68,
          4961.15,
          11793.55,
          13321.55,
          6098.48,
          14122.21,
          3171.81,
          12178.9,
          5611,
          9950.64,
          7345.26,
          6321.23,
          10537.27,
          14084.05,
          12794.83,
          9472.2,
          9033.86,
          2846.28,
          9928.21,
          8385.45,
          13359.85,
          10147.29,
          7352.13,
          5150.38,
          6521.69,
          8072.72,
          2883.42,
          6446.87,
          3679.35,
          7355.59,
          11519.98,
          15528.04,
          9711.57,
          8378.08,
          11210.85,
          5172.78,
          2279.58,
          17823.07,
          4991.52,
          12068.1,
          7121.08,
          3947.93,
          6117.8,
          15217.73,
          6515.88,
          10200.26,
          13023.08,
          7463.51,
          6158.35,
          6608.84,
          13551.84,
          9819.2,
          21737.91,
          8873.38,
          1371.1,
          12700.42,
          17113.9,
          11100.22,
          23304.03,
          11869.18,
          9970.03,
          9722.1,
          8534.8,
          11540.96,
          14493.56,
          11269.03,
          7357.28,
          6481.06,
          6323.86,
          9833.57,
          23343.35,
          11125.25,
          21962.61,
          13579.8,
          6030.69,
          15310.51,
          7725.92,
          4183.14,
          13218.58,
          13767.25,
          4542.85,
          22606.41,
          10403.49,
          6935.64,
          17128.12,
          14441.22,
          13698.74,
          10764.89,
          5772.05,
          11977.33,
          3578.33,
          23616.92,
          8223.85,
          14225.82,
          12934.39,
          13321.73,
          3696.48,
          5380.45,
          1748.25,
          7536.74,
          11657.52,
          11497.43,
          17473.2,
          11017.97,
          13185.86,
          8521.84,
          5743.18,
          5531.51,
          12787.76,
          22079.04,
          6699.14,
          3512.48,
          28902.56,
          3361.02,
          11536.32,
          9761.44,
          8649.9,
          10755.53,
          8625.35,
          15883.56,
          24088.81,
          13945.69,
          3697.75,
          8267.17,
          3682.35,
          11129.35,
          6242.17,
          16233.76,
          9690.27,
          11062.8,
          11184.7,
          16687.53,
          27022.17,
          3064.38,
          7712.34,
          7249.93,
          3727.94,
          20629.18,
          12861.78,
          9419.72,
          23838.25,
          4612.93,
          13081.24,
          2420.66,
          17237.01,
          9288.13,
          5473.06,
          8655.04,
          3766.55,
          16902.42,
          4894.08,
          13284.52,
          6076.54,
          25897.29,
          8990.68,
          4440.39,
          15757.91,
          3471.28,
          12480.37,
          8307.97,
          6217.08,
          10968.05,
          5955.96,
          8690.33,
          1075.38,
          4792.6,
          5871.45,
          8031.21,
          9250.26,
          8087.42,
          15591.6,
          11392.93,
          6095.13,
          12119.27,
          10773.04,
          4315.12,
          10746.63,
          4775.47,
          12025.31,
          8323.84,
          10916.95,
          14586.44,
          6498.37,
          6236.15,
          7595.05,
          13968.83,
          25285.06,
          3175.25,
          26430.21,
          27330.46,
          7958.53,
          13063.84,
          12278.48,
          11146.7,
          14144.04,
          6942.21,
          20350.76,
          9259.36,
          1652.8,
          12854.82,
          5003.45,
          2713.26,
          5752.76,
          13947.26,
          12551.55,
          9607.93,
          11811.74,
          11073.91,
          19062.08,
          17737.78,
          13047.21,
          8861.49,
          4673.04,
          10858.21,
          4246.43,
          12167,
          11290.82,
          2682.93,
          3893.58,
          13278.38,
          10780.54,
          10484.44,
          7640.25,
          6611.38,
          1323.47,
          4388.49,
          18491.32,
          10563.83,
          8512.68,
          2846.28,
          13487.76,
          3228.06,
          17435.74,
          3814.82,
          11156.11,
          3848.73,
          9900.75,
          9234.28,
          11919.09,
          24111.52,
          8209.52,
          14083.13,
          6751.4,
          6215.91,
          2201.83,
          1890.91,
          10182.9,
          12585.78,
          2442.3,
          24065.48,
          8302.84,
          18008.59,
          19758.98,
          6753.37,
          17590.65,
          15960.67,
          11326.25,
          2232.57,
          9450.87,
          6495.34,
          4866.1,
          7662.94,
          8689.52,
          7962.27,
          4259.97,
          14127.42,
          11447.47,
          13786.83,
          4817.02,
          9319.66,
          7804.02,
          19847.94,
          7656.29,
          2395.18,
          2839.73,
          12154.59,
          10141.41,
          9947.09,
          11833.97,
          5927.59,
          20685.01,
          5450.04,
          9059.9,
          6920.3,
          4079.01,
          12950.45,
          4535.23,
          9862.15,
          5965.65,
          6658.34,
          12394.94,
          10431.91,
          2407.88,
          24078.25,
          16237.2,
          10204.53,
          13521.65,
          11625.71,
          7183.87,
          10113.42,
          9859.92,
          22859,
          13040.64,
          9340.96,
          8918.33,
          11123.69,
          17183.74,
          2537.95,
          12906.72,
          4101.69,
          5780.63,
          10628.25,
          12352.83,
          14888.31,
          11004.53,
          25228.13,
          5926.7,
          10861.67,
          18775.12,
          3705.14,
          3393.97,
          14267.64,
          6706.81,
          5291.94,
          9600.4,
          4095.27,
          7220.77,
          4186.33,
          13209.58,
          22249.1,
          3153.97,
          7059.98,
          2130.9,
          17619.67,
          2947.66,
          5725.29
         ]
        }
       ],
       "layout": {
        "font": {
         "color": "RebeccaPurple",
         "family": "Courier New, monospace",
         "size": 18
        },
        "legend": {
         "title": {
          "text": "Gráfico de Casas"
         }
        },
        "template": {
         "data": {
          "bar": [
           {
            "error_x": {
             "color": "#2a3f5f"
            },
            "error_y": {
             "color": "#2a3f5f"
            },
            "marker": {
             "line": {
              "color": "#E5ECF6",
              "width": 0.5
             },
             "pattern": {
              "fillmode": "overlay",
              "size": 10,
              "solidity": 0.2
             }
            },
            "type": "bar"
           }
          ],
          "barpolar": [
           {
            "marker": {
             "line": {
              "color": "#E5ECF6",
              "width": 0.5
             },
             "pattern": {
              "fillmode": "overlay",
              "size": 10,
              "solidity": 0.2
             }
            },
            "type": "barpolar"
           }
          ],
          "carpet": [
           {
            "aaxis": {
             "endlinecolor": "#2a3f5f",
             "gridcolor": "white",
             "linecolor": "white",
             "minorgridcolor": "white",
             "startlinecolor": "#2a3f5f"
            },
            "baxis": {
             "endlinecolor": "#2a3f5f",
             "gridcolor": "white",
             "linecolor": "white",
             "minorgridcolor": "white",
             "startlinecolor": "#2a3f5f"
            },
            "type": "carpet"
           }
          ],
          "choropleth": [
           {
            "colorbar": {
             "outlinewidth": 0,
             "ticks": ""
            },
            "type": "choropleth"
           }
          ],
          "contour": [
           {
            "colorbar": {
             "outlinewidth": 0,
             "ticks": ""
            },
            "colorscale": [
             [
              0,
              "#0d0887"
             ],
             [
              0.1111111111111111,
              "#46039f"
             ],
             [
              0.2222222222222222,
              "#7201a8"
             ],
             [
              0.3333333333333333,
              "#9c179e"
             ],
             [
              0.4444444444444444,
              "#bd3786"
             ],
             [
              0.5555555555555556,
              "#d8576b"
             ],
             [
              0.6666666666666666,
              "#ed7953"
             ],
             [
              0.7777777777777778,
              "#fb9f3a"
             ],
             [
              0.8888888888888888,
              "#fdca26"
             ],
             [
              1,
              "#f0f921"
             ]
            ],
            "type": "contour"
           }
          ],
          "contourcarpet": [
           {
            "colorbar": {
             "outlinewidth": 0,
             "ticks": ""
            },
            "type": "contourcarpet"
           }
          ],
          "heatmap": [
           {
            "colorbar": {
             "outlinewidth": 0,
             "ticks": ""
            },
            "colorscale": [
             [
              0,
              "#0d0887"
             ],
             [
              0.1111111111111111,
              "#46039f"
             ],
             [
              0.2222222222222222,
              "#7201a8"
             ],
             [
              0.3333333333333333,
              "#9c179e"
             ],
             [
              0.4444444444444444,
              "#bd3786"
             ],
             [
              0.5555555555555556,
              "#d8576b"
             ],
             [
              0.6666666666666666,
              "#ed7953"
             ],
             [
              0.7777777777777778,
              "#fb9f3a"
             ],
             [
              0.8888888888888888,
              "#fdca26"
             ],
             [
              1,
              "#f0f921"
             ]
            ],
            "type": "heatmap"
           }
          ],
          "heatmapgl": [
           {
            "colorbar": {
             "outlinewidth": 0,
             "ticks": ""
            },
            "colorscale": [
             [
              0,
              "#0d0887"
             ],
             [
              0.1111111111111111,
              "#46039f"
             ],
             [
              0.2222222222222222,
              "#7201a8"
             ],
             [
              0.3333333333333333,
              "#9c179e"
             ],
             [
              0.4444444444444444,
              "#bd3786"
             ],
             [
              0.5555555555555556,
              "#d8576b"
             ],
             [
              0.6666666666666666,
              "#ed7953"
             ],
             [
              0.7777777777777778,
              "#fb9f3a"
             ],
             [
              0.8888888888888888,
              "#fdca26"
             ],
             [
              1,
              "#f0f921"
             ]
            ],
            "type": "heatmapgl"
           }
          ],
          "histogram": [
           {
            "marker": {
             "pattern": {
              "fillmode": "overlay",
              "size": 10,
              "solidity": 0.2
             }
            },
            "type": "histogram"
           }
          ],
          "histogram2d": [
           {
            "colorbar": {
             "outlinewidth": 0,
             "ticks": ""
            },
            "colorscale": [
             [
              0,
              "#0d0887"
             ],
             [
              0.1111111111111111,
              "#46039f"
             ],
             [
              0.2222222222222222,
              "#7201a8"
             ],
             [
              0.3333333333333333,
              "#9c179e"
             ],
             [
              0.4444444444444444,
              "#bd3786"
             ],
             [
              0.5555555555555556,
              "#d8576b"
             ],
             [
              0.6666666666666666,
              "#ed7953"
             ],
             [
              0.7777777777777778,
              "#fb9f3a"
             ],
             [
              0.8888888888888888,
              "#fdca26"
             ],
             [
              1,
              "#f0f921"
             ]
            ],
            "type": "histogram2d"
           }
          ],
          "histogram2dcontour": [
           {
            "colorbar": {
             "outlinewidth": 0,
             "ticks": ""
            },
            "colorscale": [
             [
              0,
              "#0d0887"
             ],
             [
              0.1111111111111111,
              "#46039f"
             ],
             [
              0.2222222222222222,
              "#7201a8"
             ],
             [
              0.3333333333333333,
              "#9c179e"
             ],
             [
              0.4444444444444444,
              "#bd3786"
             ],
             [
              0.5555555555555556,
              "#d8576b"
             ],
             [
              0.6666666666666666,
              "#ed7953"
             ],
             [
              0.7777777777777778,
              "#fb9f3a"
             ],
             [
              0.8888888888888888,
              "#fdca26"
             ],
             [
              1,
              "#f0f921"
             ]
            ],
            "type": "histogram2dcontour"
           }
          ],
          "mesh3d": [
           {
            "colorbar": {
             "outlinewidth": 0,
             "ticks": ""
            },
            "type": "mesh3d"
           }
          ],
          "parcoords": [
           {
            "line": {
             "colorbar": {
              "outlinewidth": 0,
              "ticks": ""
             }
            },
            "type": "parcoords"
           }
          ],
          "pie": [
           {
            "automargin": true,
            "type": "pie"
           }
          ],
          "scatter": [
           {
            "fillpattern": {
             "fillmode": "overlay",
             "size": 10,
             "solidity": 0.2
            },
            "type": "scatter"
           }
          ],
          "scatter3d": [
           {
            "line": {
             "colorbar": {
              "outlinewidth": 0,
              "ticks": ""
             }
            },
            "marker": {
             "colorbar": {
              "outlinewidth": 0,
              "ticks": ""
             }
            },
            "type": "scatter3d"
           }
          ],
          "scattercarpet": [
           {
            "marker": {
             "colorbar": {
              "outlinewidth": 0,
              "ticks": ""
             }
            },
            "type": "scattercarpet"
           }
          ],
          "scattergeo": [
           {
            "marker": {
             "colorbar": {
              "outlinewidth": 0,
              "ticks": ""
             }
            },
            "type": "scattergeo"
           }
          ],
          "scattergl": [
           {
            "marker": {
             "colorbar": {
              "outlinewidth": 0,
              "ticks": ""
             }
            },
            "type": "scattergl"
           }
          ],
          "scattermapbox": [
           {
            "marker": {
             "colorbar": {
              "outlinewidth": 0,
              "ticks": ""
             }
            },
            "type": "scattermapbox"
           }
          ],
          "scatterpolar": [
           {
            "marker": {
             "colorbar": {
              "outlinewidth": 0,
              "ticks": ""
             }
            },
            "type": "scatterpolar"
           }
          ],
          "scatterpolargl": [
           {
            "marker": {
             "colorbar": {
              "outlinewidth": 0,
              "ticks": ""
             }
            },
            "type": "scatterpolargl"
           }
          ],
          "scatterternary": [
           {
            "marker": {
             "colorbar": {
              "outlinewidth": 0,
              "ticks": ""
             }
            },
            "type": "scatterternary"
           }
          ],
          "surface": [
           {
            "colorbar": {
             "outlinewidth": 0,
             "ticks": ""
            },
            "colorscale": [
             [
              0,
              "#0d0887"
             ],
             [
              0.1111111111111111,
              "#46039f"
             ],
             [
              0.2222222222222222,
              "#7201a8"
             ],
             [
              0.3333333333333333,
              "#9c179e"
             ],
             [
              0.4444444444444444,
              "#bd3786"
             ],
             [
              0.5555555555555556,
              "#d8576b"
             ],
             [
              0.6666666666666666,
              "#ed7953"
             ],
             [
              0.7777777777777778,
              "#fb9f3a"
             ],
             [
              0.8888888888888888,
              "#fdca26"
             ],
             [
              1,
              "#f0f921"
             ]
            ],
            "type": "surface"
           }
          ],
          "table": [
           {
            "cells": {
             "fill": {
              "color": "#EBF0F8"
             },
             "line": {
              "color": "white"
             }
            },
            "header": {
             "fill": {
              "color": "#C8D4E3"
             },
             "line": {
              "color": "white"
             }
            },
            "type": "table"
           }
          ]
         },
         "layout": {
          "annotationdefaults": {
           "arrowcolor": "#2a3f5f",
           "arrowhead": 0,
           "arrowwidth": 1
          },
          "autotypenumbers": "strict",
          "coloraxis": {
           "colorbar": {
            "outlinewidth": 0,
            "ticks": ""
           }
          },
          "colorscale": {
           "diverging": [
            [
             0,
             "#8e0152"
            ],
            [
             0.1,
             "#c51b7d"
            ],
            [
             0.2,
             "#de77ae"
            ],
            [
             0.3,
             "#f1b6da"
            ],
            [
             0.4,
             "#fde0ef"
            ],
            [
             0.5,
             "#f7f7f7"
            ],
            [
             0.6,
             "#e6f5d0"
            ],
            [
             0.7,
             "#b8e186"
            ],
            [
             0.8,
             "#7fbc41"
            ],
            [
             0.9,
             "#4d9221"
            ],
            [
             1,
             "#276419"
            ]
           ],
           "sequential": [
            [
             0,
             "#0d0887"
            ],
            [
             0.1111111111111111,
             "#46039f"
            ],
            [
             0.2222222222222222,
             "#7201a8"
            ],
            [
             0.3333333333333333,
             "#9c179e"
            ],
            [
             0.4444444444444444,
             "#bd3786"
            ],
            [
             0.5555555555555556,
             "#d8576b"
            ],
            [
             0.6666666666666666,
             "#ed7953"
            ],
            [
             0.7777777777777778,
             "#fb9f3a"
            ],
            [
             0.8888888888888888,
             "#fdca26"
            ],
            [
             1,
             "#f0f921"
            ]
           ],
           "sequentialminus": [
            [
             0,
             "#0d0887"
            ],
            [
             0.1111111111111111,
             "#46039f"
            ],
            [
             0.2222222222222222,
             "#7201a8"
            ],
            [
             0.3333333333333333,
             "#9c179e"
            ],
            [
             0.4444444444444444,
             "#bd3786"
            ],
            [
             0.5555555555555556,
             "#d8576b"
            ],
            [
             0.6666666666666666,
             "#ed7953"
            ],
            [
             0.7777777777777778,
             "#fb9f3a"
            ],
            [
             0.8888888888888888,
             "#fdca26"
            ],
            [
             1,
             "#f0f921"
            ]
           ]
          },
          "colorway": [
           "#636efa",
           "#EF553B",
           "#00cc96",
           "#ab63fa",
           "#FFA15A",
           "#19d3f3",
           "#FF6692",
           "#B6E880",
           "#FF97FF",
           "#FECB52"
          ],
          "font": {
           "color": "#2a3f5f"
          },
          "geo": {
           "bgcolor": "white",
           "lakecolor": "white",
           "landcolor": "#E5ECF6",
           "showlakes": true,
           "showland": true,
           "subunitcolor": "white"
          },
          "hoverlabel": {
           "align": "left"
          },
          "hovermode": "closest",
          "mapbox": {
           "style": "light"
          },
          "paper_bgcolor": "white",
          "plot_bgcolor": "#E5ECF6",
          "polar": {
           "angularaxis": {
            "gridcolor": "white",
            "linecolor": "white",
            "ticks": ""
           },
           "bgcolor": "#E5ECF6",
           "radialaxis": {
            "gridcolor": "white",
            "linecolor": "white",
            "ticks": ""
           }
          },
          "scene": {
           "xaxis": {
            "backgroundcolor": "#E5ECF6",
            "gridcolor": "white",
            "gridwidth": 2,
            "linecolor": "white",
            "showbackground": true,
            "ticks": "",
            "zerolinecolor": "white"
           },
           "yaxis": {
            "backgroundcolor": "#E5ECF6",
            "gridcolor": "white",
            "gridwidth": 2,
            "linecolor": "white",
            "showbackground": true,
            "ticks": "",
            "zerolinecolor": "white"
           },
           "zaxis": {
            "backgroundcolor": "#E5ECF6",
            "gridcolor": "white",
            "gridwidth": 2,
            "linecolor": "white",
            "showbackground": true,
            "ticks": "",
            "zerolinecolor": "white"
           }
          },
          "shapedefaults": {
           "line": {
            "color": "#2a3f5f"
           }
          },
          "ternary": {
           "aaxis": {
            "gridcolor": "white",
            "linecolor": "white",
            "ticks": ""
           },
           "baxis": {
            "gridcolor": "white",
            "linecolor": "white",
            "ticks": ""
           },
           "bgcolor": "#E5ECF6",
           "caxis": {
            "gridcolor": "white",
            "linecolor": "white",
            "ticks": ""
           }
          },
          "title": {
           "x": 0.05
          },
          "xaxis": {
           "automargin": true,
           "gridcolor": "white",
           "linecolor": "white",
           "ticks": "",
           "title": {
            "standoff": 15
           },
           "zerolinecolor": "white",
           "zerolinewidth": 2
          },
          "yaxis": {
           "automargin": true,
           "gridcolor": "white",
           "linecolor": "white",
           "ticks": "",
           "title": {
            "standoff": 15
           },
           "zerolinecolor": "white",
           "zerolinewidth": 2
          }
         }
        },
        "title": {
         "text": "Preço Previsto das Casas"
        },
        "xaxis": {
         "title": {
          "text": "Objetivo"
         }
        },
        "yaxis": {
         "title": {
          "text": "Previsto"
         }
        }
       }
      }
     },
     "metadata": {},
     "output_type": "display_data"
    }
   ],
   "source": [
    "\n",
    "fig = go.Figure() \n",
    "fig.add_trace(\n",
    "    go.Scatter(\n",
    "        x=df['Objetivo'],\n",
    "        y=df['Previsto'],\n",
    "        mode='markers',\n",
    "        marker=dict(\n",
    "            color=(\n",
    "                (df['Objetivo'] / df['Previsto'] > 1.50)\n",
    "            ).astype('int'),\n",
    "            colorscale=[[0, 'blue'], [1, 'red']]\n",
    "        )\n",
    "    )\n",
    ")\n",
    "fig.update_layout(\n",
    "    title=\"Preço Previsto das Casas\",\n",
    "    xaxis_title=\"Objetivo\",\n",
    "    yaxis_title=\"Previsto\",\n",
    "    legend_title=\"Gráfico de Casas\",\n",
    "    font=dict(\n",
    "        family=\"Courier New, monospace\",\n",
    "        size=18,\n",
    "        color=\"RebeccaPurple\"\n",
    "    )\n",
    ")\n",
    "\n",
    "fig.show()"
   ]
  }
 ],
 "metadata": {
  "kernelspec": {
   "display_name": "Python 3.10.2 64-bit",
   "language": "python",
   "name": "python3"
  },
  "language_info": {
   "codemirror_mode": {
    "name": "ipython",
    "version": 3
   },
   "file_extension": ".py",
   "mimetype": "text/x-python",
   "name": "python",
   "nbconvert_exporter": "python",
   "pygments_lexer": "ipython3",
   "version": "3.10.2"
  },
  "orig_nbformat": 4,
  "vscode": {
   "interpreter": {
    "hash": "748b4bbb40e1dc38591514fffe1d01ec0f0710858425568fad37763828692ea0"
   }
  }
 },
 "nbformat": 4,
 "nbformat_minor": 2
}
