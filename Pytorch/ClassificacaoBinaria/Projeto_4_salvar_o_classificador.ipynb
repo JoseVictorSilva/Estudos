{
  "nbformat": 4,
  "nbformat_minor": 0,
  "metadata": {
    "colab": {
      "provenance": []
    },
    "kernelspec": {
      "name": "python3",
      "display_name": "Python 3"
    },
    "accelerator": "GPU"
  },
  "cells": [
    {
      "cell_type": "markdown",
      "metadata": {
        "id": "rD_RSER5Lkb5"
      },
      "source": [
        "# Projeto 4: Classificação binária brest cancer - classificar somente um registro e salvar o classificador"
      ]
    },
    {
      "cell_type": "markdown",
      "metadata": {
        "id": "5tP2BcEILoLB"
      },
      "source": [
        "## Etapa 1: Importação das bibliotecas"
      ]
    },
    {
      "cell_type": "code",
      "metadata": {
        "id": "Yf0FpJ35Lf-Z",
        "colab": {
          "base_uri": "https://localhost:8080/",
          "height": 35
        },
        "outputId": "fedcc182-2bcf-4137-c758-a59e11bdc221"
      },
      "source": [
        "import pandas as pd\n",
        "from sklearn.model_selection import train_test_split\n",
        "import numpy as np\n",
        "import seaborn as sns\n",
        "from sklearn.metrics import confusion_matrix, accuracy_score\n",
        "import torch\n",
        "import torch.nn as nn\n",
        "torch.__version__"
      ],
      "execution_count": null,
      "outputs": [
        {
          "output_type": "execute_result",
          "data": {
            "text/plain": [
              "'1.4.0'"
            ]
          },
          "metadata": {
            "tags": []
          },
          "execution_count": 1
        }
      ]
    },
    {
      "cell_type": "markdown",
      "metadata": {
        "id": "C0SD4dJ4MDMN"
      },
      "source": [
        "## Etapa 2: Base de dados"
      ]
    },
    {
      "cell_type": "code",
      "metadata": {
        "id": "J9aIu62WMGo8",
        "colab": {
          "base_uri": "https://localhost:8080/",
          "height": 35
        },
        "outputId": "9e8f53b5-b26c-4dae-99c0-f939041e3edd"
      },
      "source": [
        "np.random.seed(123)\n",
        "torch.manual_seed(123)"
      ],
      "execution_count": null,
      "outputs": [
        {
          "output_type": "execute_result",
          "data": {
            "text/plain": [
              "<torch._C.Generator at 0x7f928f738df0>"
            ]
          },
          "metadata": {
            "tags": []
          },
          "execution_count": 2
        }
      ]
    },
    {
      "cell_type": "code",
      "metadata": {
        "id": "u49yuDE9MJs6"
      },
      "source": [
        "previsores = pd.read_csv('entradas_breast.csv')\n",
        "classe = pd.read_csv('saidas_breast.csv')"
      ],
      "execution_count": null,
      "outputs": []
    },
    {
      "cell_type": "code",
      "metadata": {
        "id": "9FpRPDPysaAR"
      },
      "source": [
        "previsores = torch.tensor(np.array(previsores), dtype = torch.float)\n",
        "classe = torch.tensor(np.array(classe), dtype = torch.float)"
      ],
      "execution_count": null,
      "outputs": []
    },
    {
      "cell_type": "code",
      "metadata": {
        "id": "jNvzT-k0f2rh",
        "colab": {
          "base_uri": "https://localhost:8080/",
          "height": 35
        },
        "outputId": "a1789d41-e1fc-4932-e096-416ba3913ce0"
      },
      "source": [
        "type(previsores)"
      ],
      "execution_count": null,
      "outputs": [
        {
          "output_type": "execute_result",
          "data": {
            "text/plain": [
              "torch.Tensor"
            ]
          },
          "metadata": {
            "tags": []
          },
          "execution_count": 5
        }
      ]
    },
    {
      "cell_type": "markdown",
      "metadata": {
        "id": "72uvlxJrOuWd"
      },
      "source": [
        "## Etapa 3: Transformação dos dados para tensores\n"
      ]
    },
    {
      "cell_type": "code",
      "metadata": {
        "id": "dtRWhopTQh0a"
      },
      "source": [
        "train_loader = torch.utils.data.DataLoader(torch.utils.data.TensorDataset(previsores, classe), batch_size = 10, shuffle = True)"
      ],
      "execution_count": null,
      "outputs": []
    },
    {
      "cell_type": "markdown",
      "metadata": {
        "id": "QGDLesyDQpIb"
      },
      "source": [
        "## Etapa 4: Construção do modelo"
      ]
    },
    {
      "cell_type": "code",
      "metadata": {
        "id": "K9SHCjuqQuax"
      },
      "source": [
        "class classificador_torch(nn.Module):\n",
        "    def __init__(self):\n",
        "        super().__init__() \n",
        "        self.dense0 = nn.Linear(30, 8)\n",
        "        # Mesmos parâmetors usados pelo kernel initializer do Keras [https://keras.io/initializers/, ver sessão RandomNormal]\n",
        "        torch.nn.init.normal_(self.dense0.weight, mean = 0.0, std= 0.05)\n",
        "        self.dense1 = nn.Linear(8, 8)\n",
        "        torch.nn.init.normal_(self.dense1.weight, mean = 0.0, std= 0.05)\n",
        "        self.dense2 = nn.Linear(8, 1)\n",
        "        self.activation = nn.ReLU()\n",
        "        self.dropout = nn.Dropout(0.2)\n",
        "        self.output = nn.Sigmoid()\n",
        "        \n",
        "    def forward(self, X):\n",
        "        X = self.dense0(X)\n",
        "        X = self.activation(X)\n",
        "        X = self.dropout(X)\n",
        "        X = self.dense1(X)\n",
        "        X = self.activation(X)\n",
        "        X = self.dropout(X)\n",
        "        X = self.dense2(X)\n",
        "        X = self.output(X)\n",
        "        return X"
      ],
      "execution_count": null,
      "outputs": []
    },
    {
      "cell_type": "code",
      "metadata": {
        "id": "Q_7v8RZPs85E"
      },
      "source": [
        "classificador = classificador_torch()"
      ],
      "execution_count": null,
      "outputs": []
    },
    {
      "cell_type": "code",
      "metadata": {
        "id": "6fm4mbCotCSf"
      },
      "source": [
        "criterion = nn.BCELoss()\n",
        "optimizer = torch.optim.Adam(classificador.parameters(), lr = 0.001, \n",
        "                             weight_decay = 0.0001)"
      ],
      "execution_count": null,
      "outputs": []
    },
    {
      "cell_type": "markdown",
      "metadata": {
        "id": "appMwDHtRTN5"
      },
      "source": [
        "## Etapa 5: Treinamento do modelo"
      ]
    },
    {
      "cell_type": "code",
      "metadata": {
        "id": "hLi-Elc8RVSJ",
        "colab": {
          "base_uri": "https://localhost:8080/",
          "height": 1000
        },
        "outputId": "282439c2-ecdd-447e-e738-34c490ce71c1"
      },
      "source": [
        "for epoch in range(100):\n",
        "    running_loss = 0.\n",
        "    \n",
        "    for data in train_loader:\n",
        "        inputs, labels = data\n",
        "        optimizer.zero_grad()        \n",
        "\n",
        "        outputs = classificador(inputs)\n",
        "        loss = criterion(outputs, labels)\n",
        "        loss.backward()    \n",
        "        optimizer.step()\n",
        "\n",
        "        running_loss += loss.item()\n",
        "\n",
        "    print('Época %3d: perda %.5f' % (epoch+1, running_loss/len(train_loader)))"
      ],
      "execution_count": null,
      "outputs": [
        {
          "output_type": "stream",
          "text": [
            "Época   1: perda 1.50244\n",
            "Época   2: perda 0.73373\n",
            "Época   3: perda 0.67770\n",
            "Época   4: perda 0.58107\n",
            "Época   5: perda 0.57171\n",
            "Época   6: perda 0.56428\n",
            "Época   7: perda 0.53814\n",
            "Época   8: perda 0.50038\n",
            "Época   9: perda 0.50480\n",
            "Época  10: perda 0.49681\n",
            "Época  11: perda 0.47105\n",
            "Época  12: perda 0.46919\n",
            "Época  13: perda 0.46847\n",
            "Época  14: perda 0.46689\n",
            "Época  15: perda 0.43371\n",
            "Época  16: perda 0.41159\n",
            "Época  17: perda 0.40354\n",
            "Época  18: perda 0.41222\n",
            "Época  19: perda 0.39259\n",
            "Época  20: perda 0.38620\n",
            "Época  21: perda 0.37312\n",
            "Época  22: perda 0.35878\n",
            "Época  23: perda 0.36107\n",
            "Época  24: perda 0.32681\n",
            "Época  25: perda 0.33623\n",
            "Época  26: perda 0.36341\n",
            "Época  27: perda 0.32568\n",
            "Época  28: perda 0.32805\n",
            "Época  29: perda 0.31555\n",
            "Época  30: perda 0.30389\n",
            "Época  31: perda 0.31813\n",
            "Época  32: perda 0.33555\n",
            "Época  33: perda 0.32136\n",
            "Época  34: perda 0.31885\n",
            "Época  35: perda 0.29142\n",
            "Época  36: perda 0.31004\n",
            "Época  37: perda 0.30168\n",
            "Época  38: perda 0.27757\n",
            "Época  39: perda 0.30899\n",
            "Época  40: perda 0.26122\n",
            "Época  41: perda 0.28553\n",
            "Época  42: perda 0.28377\n",
            "Época  43: perda 0.28120\n",
            "Época  44: perda 0.27007\n",
            "Época  45: perda 0.30130\n",
            "Época  46: perda 0.24531\n",
            "Época  47: perda 0.26473\n",
            "Época  48: perda 0.26759\n",
            "Época  49: perda 0.25874\n",
            "Época  50: perda 0.25136\n",
            "Época  51: perda 0.26230\n",
            "Época  52: perda 0.26270\n",
            "Época  53: perda 0.23280\n",
            "Época  54: perda 0.27685\n",
            "Época  55: perda 0.26506\n",
            "Época  56: perda 0.26676\n",
            "Época  57: perda 0.23927\n",
            "Época  58: perda 0.23949\n",
            "Época  59: perda 0.25476\n",
            "Época  60: perda 0.25899\n",
            "Época  61: perda 0.27075\n",
            "Época  62: perda 0.25058\n",
            "Época  63: perda 0.23334\n",
            "Época  64: perda 0.25618\n",
            "Época  65: perda 0.23902\n",
            "Época  66: perda 0.23969\n",
            "Época  67: perda 0.23813\n",
            "Época  68: perda 0.25818\n",
            "Época  69: perda 0.24294\n",
            "Época  70: perda 0.22913\n",
            "Época  71: perda 0.21437\n",
            "Época  72: perda 0.24761\n",
            "Época  73: perda 0.24128\n",
            "Época  74: perda 0.25365\n",
            "Época  75: perda 0.26623\n",
            "Época  76: perda 0.22410\n",
            "Época  77: perda 0.25747\n",
            "Época  78: perda 0.24990\n",
            "Época  79: perda 0.20902\n",
            "Época  80: perda 0.25255\n",
            "Época  81: perda 0.26041\n",
            "Época  82: perda 0.24146\n",
            "Época  83: perda 0.22815\n",
            "Época  84: perda 0.21441\n",
            "Época  85: perda 0.24638\n",
            "Época  86: perda 0.22378\n",
            "Época  87: perda 0.21927\n",
            "Época  88: perda 0.22215\n",
            "Época  89: perda 0.24955\n",
            "Época  90: perda 0.21988\n",
            "Época  91: perda 0.20798\n",
            "Época  92: perda 0.22265\n",
            "Época  93: perda 0.22108\n",
            "Época  94: perda 0.20116\n",
            "Época  95: perda 0.27336\n",
            "Época  96: perda 0.24704\n",
            "Época  97: perda 0.26051\n",
            "Época  98: perda 0.21517\n",
            "Época  99: perda 0.20658\n",
            "Época 100: perda 0.21762\n"
          ],
          "name": "stdout"
        }
      ]
    },
    {
      "cell_type": "markdown",
      "metadata": {
        "id": "ITUtUdQNSJcs"
      },
      "source": [
        "## Etapa 6: Classificar somente um registro"
      ]
    },
    {
      "cell_type": "code",
      "metadata": {
        "id": "Ov6lKERhSDNS"
      },
      "source": [
        "novo = torch.tensor([[15.80, 8.34, 118, 900, 0.10, 0.26, 0.08, 0.134, 0.178,\n",
        "                  0.20, 0.05, 1098, 0.87, 4500, 145.2, 0.005, 0.04, 0.05, 0.015,\n",
        "                  0.03, 0.007, 23.15, 16.64, 178.5, 2018, 0.14, 0.185,\n",
        "                  0.84, 158, 0.363]], dtype = torch.float)"
      ],
      "execution_count": null,
      "outputs": []
    },
    {
      "cell_type": "code",
      "metadata": {
        "id": "5EAN_Xd7hHZb",
        "colab": {
          "base_uri": "https://localhost:8080/",
          "height": 155
        },
        "outputId": "c7dec203-eaed-425b-a6c7-d982004b0dfe"
      },
      "source": [
        "classificador.eval()"
      ],
      "execution_count": null,
      "outputs": [
        {
          "output_type": "execute_result",
          "data": {
            "text/plain": [
              "classificador_torch(\n",
              "  (dense0): Linear(in_features=30, out_features=8, bias=True)\n",
              "  (dense1): Linear(in_features=8, out_features=8, bias=True)\n",
              "  (dense2): Linear(in_features=8, out_features=1, bias=True)\n",
              "  (activation): ReLU()\n",
              "  (dropout): Dropout(p=0.2, inplace=False)\n",
              "  (output): Sigmoid()\n",
              ")"
            ]
          },
          "metadata": {
            "tags": []
          },
          "execution_count": 12
        }
      ]
    },
    {
      "cell_type": "code",
      "metadata": {
        "id": "cPR2UpABhMPh"
      },
      "source": [
        "previsao = classificador(novo)"
      ],
      "execution_count": null,
      "outputs": []
    },
    {
      "cell_type": "code",
      "metadata": {
        "id": "UkGgtU2RhQIk",
        "colab": {
          "base_uri": "https://localhost:8080/",
          "height": 35
        },
        "outputId": "d4cf6c42-e217-4101-ddb7-39c99cdadb74"
      },
      "source": [
        "previsao"
      ],
      "execution_count": null,
      "outputs": [
        {
          "output_type": "execute_result",
          "data": {
            "text/plain": [
              "tensor([[1.]], grad_fn=<SigmoidBackward>)"
            ]
          },
          "metadata": {
            "tags": []
          },
          "execution_count": 14
        }
      ]
    },
    {
      "cell_type": "code",
      "metadata": {
        "id": "Tp8Tn8L1hT6B"
      },
      "source": [
        "previsao = previsao.detach()"
      ],
      "execution_count": null,
      "outputs": []
    },
    {
      "cell_type": "code",
      "metadata": {
        "id": "xkBUV6KghXX9",
        "colab": {
          "base_uri": "https://localhost:8080/",
          "height": 35
        },
        "outputId": "69827110-de30-4432-f8ef-75feb2393c74"
      },
      "source": [
        "previsao"
      ],
      "execution_count": null,
      "outputs": [
        {
          "output_type": "execute_result",
          "data": {
            "text/plain": [
              "tensor([[1.]])"
            ]
          },
          "metadata": {
            "tags": []
          },
          "execution_count": 16
        }
      ]
    },
    {
      "cell_type": "code",
      "metadata": {
        "id": "wnJc7h96hd_6"
      },
      "source": [
        "previsao = previsao.numpy()"
      ],
      "execution_count": null,
      "outputs": []
    },
    {
      "cell_type": "code",
      "metadata": {
        "id": "ahiBhejchiUt",
        "colab": {
          "base_uri": "https://localhost:8080/",
          "height": 35
        },
        "outputId": "2e6baac4-c8c2-4fc2-ad98-dc17f193e738"
      },
      "source": [
        "type(previsao)"
      ],
      "execution_count": null,
      "outputs": [
        {
          "output_type": "execute_result",
          "data": {
            "text/plain": [
              "numpy.ndarray"
            ]
          },
          "metadata": {
            "tags": []
          },
          "execution_count": 18
        }
      ]
    },
    {
      "cell_type": "code",
      "metadata": {
        "id": "6CxG9EOIhk0l",
        "colab": {
          "base_uri": "https://localhost:8080/",
          "height": 35
        },
        "outputId": "9784617f-371e-42a9-e803-a766fea41979"
      },
      "source": [
        "previsao"
      ],
      "execution_count": null,
      "outputs": [
        {
          "output_type": "execute_result",
          "data": {
            "text/plain": [
              "array([[1.]], dtype=float32)"
            ]
          },
          "metadata": {
            "tags": []
          },
          "execution_count": 19
        }
      ]
    },
    {
      "cell_type": "code",
      "metadata": {
        "id": "jN9LBKYZhnuy",
        "colab": {
          "base_uri": "https://localhost:8080/",
          "height": 35
        },
        "outputId": "62b44766-219b-4ecd-f3d3-8da07b338bef"
      },
      "source": [
        "previsao = (previsao > 0.5)\n",
        "previsao"
      ],
      "execution_count": null,
      "outputs": [
        {
          "output_type": "execute_result",
          "data": {
            "text/plain": [
              "array([[ True]])"
            ]
          },
          "metadata": {
            "tags": []
          },
          "execution_count": 20
        }
      ]
    },
    {
      "cell_type": "markdown",
      "metadata": {
        "id": "z19bhpjius1H"
      },
      "source": [
        "# Etapa 7: Salvar o classificador"
      ]
    },
    {
      "cell_type": "code",
      "metadata": {
        "id": "m1-lxFHAcHsT"
      },
      "source": [
        "# Quando salvar, você precisa chamar classificador.state_dict() (com os parêntese no final), \n",
        "# ao invés de classificador.state_dict"
      ],
      "execution_count": null,
      "outputs": []
    },
    {
      "cell_type": "code",
      "metadata": {
        "id": "5tIub9reh0Vv",
        "colab": {
          "base_uri": "https://localhost:8080/",
          "height": 1000
        },
        "outputId": "164c713f-9d3a-4b73-b34d-586f4198cfb3"
      },
      "source": [
        "classificador.state_dict()"
      ],
      "execution_count": null,
      "outputs": [
        {
          "output_type": "execute_result",
          "data": {
            "text/plain": [
              "OrderedDict([('dense0.weight',\n",
              "              tensor([[-6.2938e-01, -6.3880e-02, -3.8812e-01, -1.0131e-01,  5.3613e-02,\n",
              "                       -5.2737e-02,  5.9786e-02, -6.1688e-02,  2.9235e-02,  8.3439e-02,\n",
              "                        5.2364e-04,  1.0153e-03,  6.2318e-04, -1.3868e-03,  1.9200e-02,\n",
              "                        1.1765e-01, -3.8250e-01, -2.6600e-01, -6.0278e-03,  4.2274e-01,\n",
              "                       -4.7407e-01, -3.1142e-02, -3.2840e-01,  1.8073e-01,  4.6571e-02,\n",
              "                        4.2041e-02,  2.2235e-02,  4.5930e-02,  3.1673e-02,  6.3382e-01],\n",
              "                      [ 8.2934e-02,  1.6680e-02,  5.3591e-02, -5.2363e-02,  8.3542e-02,\n",
              "                       -2.1720e-04,  4.8437e-02, -1.6592e-03, -7.1113e-02, -2.8021e-02,\n",
              "                        1.3983e-02, -1.1551e-02, -4.8893e-02,  1.0772e-01, -1.0227e-14,\n",
              "                        1.0606e-04,  1.7713e-02, -3.5398e-13, -3.3772e-03, -4.1128e-14,\n",
              "                       -5.3233e-02,  4.5062e-02, -4.9869e-02, -6.6557e-02, -8.3495e-02,\n",
              "                       -7.2788e-03,  6.4332e-02, -2.9771e-02,  9.8995e-02,  3.3572e-02],\n",
              "                      [-8.9827e-02, -1.5263e-01, -4.2750e-01, -9.9574e-02,  1.6732e-01,\n",
              "                        9.0036e-02,  4.7691e-02, -6.0593e-02, -1.9750e-02, -1.8500e-01,\n",
              "                        1.1893e-02, -3.5563e-03,  3.2090e-03, -1.2344e-02,  3.6572e-02,\n",
              "                        5.1889e-02, -1.8028e-01,  1.2274e-01, -4.1773e-02,  3.2311e-01,\n",
              "                       -1.2209e-01,  9.0670e-02, -2.1175e-01,  1.6121e-01, -7.1004e-02,\n",
              "                        9.0976e-04, -4.0516e-02, -4.1047e-02, -1.4345e-02,  5.6648e-01],\n",
              "                      [-2.2865e-01, -3.9165e-01, -1.5306e-01, -7.7427e-02,  7.7069e-02,\n",
              "                        2.8551e-01,  5.6009e-02, -2.9260e-01, -1.0419e-01,  2.2585e-01,\n",
              "                        2.5611e-02, -4.8326e-03, -1.2267e-01, -1.4324e-03,  7.4712e-04,\n",
              "                       -2.3086e-01,  6.2350e-02, -2.4972e-01,  6.1231e-01,  2.3477e-03,\n",
              "                       -2.7218e-01, -3.8139e-01, -1.0029e-01,  1.4269e-01, -9.8666e-02,\n",
              "                       -1.2107e-01, -1.6902e-01,  2.7325e-01, -7.2185e-02,  1.5156e-01],\n",
              "                      [-6.1221e-02,  1.0810e-01, -8.8557e-03, -4.5046e-03, -5.5209e-02,\n",
              "                       -1.2910e-01,  4.7917e-02,  1.3342e-01,  1.2883e-01,  1.1267e-01,\n",
              "                        1.0990e-02, -1.8928e-02, -1.5910e-01, -1.3035e-01, -1.9503e-34,\n",
              "                        1.5772e-02, -6.8250e-03,  7.1846e-03, -2.5132e-02,  1.3540e-28,\n",
              "                        2.2695e-02,  4.8444e-03, -7.1826e-02, -3.8334e-02,  1.1555e-01,\n",
              "                        7.4217e-03,  2.0776e-01, -3.4709e-02, -2.3580e-02, -3.5119e-02],\n",
              "                      [ 6.7001e-02,  1.3195e-01,  5.6683e-02,  2.6088e-02,  6.7846e-03,\n",
              "                       -5.8187e-02, -2.0732e-02,  1.0048e-01,  1.3156e-01,  2.5943e-01,\n",
              "                        4.9647e-03, -2.4355e-02, -1.0179e-01,  4.9444e-02,  2.2746e-03,\n",
              "                        9.4131e-03, -6.0963e-03,  1.3511e-01,  5.2917e-05,  6.5060e-04,\n",
              "                       -8.5566e-03,  6.9551e-02,  2.0928e-02, -5.5124e-02,  6.1690e-02,\n",
              "                        5.9979e-02,  2.0657e-02, -3.8830e-02, -2.2361e-02, -7.4910e-03],\n",
              "                      [-1.1881e-02,  6.6589e-02,  1.5820e-01,  9.5107e-03, -4.5143e-03,\n",
              "                       -4.4433e-02,  1.6701e-02,  2.4839e-02,  4.3496e-01, -2.5260e-01,\n",
              "                       -5.0275e-02,  4.0099e-02, -5.9437e-03, -3.5404e-01,  1.5409e-03,\n",
              "                        4.7458e-01, -5.6515e-03, -5.0529e-03, -3.9217e-03, -1.7695e-01,\n",
              "                        7.1590e-02, -8.2029e-02,  7.9309e-02, -1.2147e-01, -1.8368e-01,\n",
              "                        5.8184e-02, -1.7370e-01,  9.8677e-02,  1.9209e-02, -2.3330e-01],\n",
              "                      [ 4.2307e-02,  2.0875e-01,  3.1033e-01,  4.9035e-02, -2.1237e-01,\n",
              "                       -1.8679e-01,  9.5359e-02,  6.0629e-02,  4.5063e-02,  3.9018e-01,\n",
              "                       -8.8323e-02, -5.4827e-02,  5.1244e-04,  5.3361e-02, -5.3997e-03,\n",
              "                       -6.6985e-02,  9.7984e-02,  2.5006e-01,  4.5592e-01, -8.6923e-04,\n",
              "                        1.1424e-01, -1.0198e-04,  1.5842e-01, -1.1600e-01,  3.9693e-02,\n",
              "                        2.4779e-02, -1.6497e-03, -6.1981e-02, -2.4967e-02, -1.2183e-01]])),\n",
              "             ('dense0.bias',\n",
              "              tensor([-0.7093, -0.0059, -0.9060, -0.3575,  0.0861,  0.2409,  0.2236,  0.3762])),\n",
              "             ('dense1.weight',\n",
              "              tensor([[ 0.1331,  0.0008,  0.1141,  0.1107,  0.0138,  0.0016,  0.0014, -0.0539],\n",
              "                      [-0.0369, -0.0737, -0.0482, -0.0068,  0.0365,  0.0125,  0.0985, -0.1163],\n",
              "                      [ 0.0977, -0.0374,  0.0531,  0.0759,  0.0430, -0.1074, -0.0073, -0.0190],\n",
              "                      [ 0.1312, -0.0824,  0.0667,  0.0915,  0.0283,  0.0605, -0.0376, -0.0674],\n",
              "                      [-0.0444, -0.0055, -0.0558, -0.0917,  0.0365,  0.0619,  0.0265,  0.0945],\n",
              "                      [-0.0273,  0.1064, -0.0231, -0.0240, -0.0197,  0.0300,  0.0245,  0.0144],\n",
              "                      [-0.1355,  0.0590, -0.0554, -0.0037,  0.0517,  0.0884,  0.0621,  0.1156],\n",
              "                      [-0.0322,  0.0012, -0.0256, -0.0156,  0.0301,  0.0733,  0.0545,  0.0762]])),\n",
              "             ('dense1.bias',\n",
              "              tensor([-0.1519,  0.6585, -0.7576, -0.4300,  0.9091,  0.7826,  0.7370,  0.7818])),\n",
              "             ('dense2.weight',\n",
              "              tensor([[-0.1888,  0.2969, -0.3272, -0.2147,  0.5269,  0.3300,  0.3808,  0.3123]])),\n",
              "             ('dense2.bias', tensor([0.6072]))])"
            ]
          },
          "metadata": {
            "tags": []
          },
          "execution_count": 22
        }
      ]
    },
    {
      "cell_type": "code",
      "metadata": {
        "id": "pR7iIF2hh_V9",
        "colab": {
          "base_uri": "https://localhost:8080/",
          "height": 72
        },
        "outputId": "2cbfc5ab-dc26-4a18-f4e7-c5f96b4732c2"
      },
      "source": [
        "# Para salvar o classificador com a versão 1.5.0 do PyTorch, use o código abaixo\n",
        "\n",
        "# torch.save(classificador.state_dict(), 'checkpoint.pth')"
      ],
      "execution_count": null,
      "outputs": [
        {
          "output_type": "stream",
          "text": [
            "/usr/local/lib/python3.6/dist-packages/torch/serialization.py:360: UserWarning: Couldn't retrieve source code for container of type classificador_torch. It won't be checked for correctness upon loading.\n",
            "  \"type \" + obj.__name__ + \". It won't be checked \"\n"
          ],
          "name": "stderr"
        }
      ]
    }
  ]
}