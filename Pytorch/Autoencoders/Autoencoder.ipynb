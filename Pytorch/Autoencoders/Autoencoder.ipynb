{
 "cells": [
  {
   "cell_type": "code",
   "execution_count": 1,
   "metadata": {},
   "outputs": [],
   "source": [
    "from torchvision import datasets, transforms\n",
    "import torch\n",
    "from torch import nn, optim\n",
    "import matplotlib.pyplot as plt"
   ]
  },
  {
   "cell_type": "code",
   "execution_count": 2,
   "metadata": {},
   "outputs": [
    {
     "data": {
      "text/plain": [
       "<torch._C.Generator at 0x2de82cc3870>"
      ]
     },
     "execution_count": 2,
     "metadata": {},
     "output_type": "execute_result"
    }
   ],
   "source": [
    "torch.manual_seed(123)"
   ]
  },
  {
   "cell_type": "code",
   "execution_count": 3,
   "metadata": {},
   "outputs": [],
   "source": [
    "train = datasets.MNIST(root = '.', train = True, download=True, transform = transforms.ToTensor())\n",
    "test = datasets.MNIST(root = '.', train = False, download=True, transform = transforms.ToTensor())"
   ]
  },
  {
   "cell_type": "code",
   "execution_count": 4,
   "metadata": {},
   "outputs": [],
   "source": [
    "train_loader = torch.utils.data.DataLoader(train, batch_size=256, shuffle=True)\n",
    "test_loader = torch.utils.data.DataLoader(test, batch_size=256, shuffle=True)"
   ]
  },
  {
   "cell_type": "code",
   "execution_count": 5,
   "metadata": {},
   "outputs": [
    {
     "data": {
      "text/plain": [
       "Dataset MNIST\n",
       "    Number of datapoints: 60000\n",
       "    Root location: .\n",
       "    Split: Train\n",
       "    StandardTransform\n",
       "Transform: ToTensor()"
      ]
     },
     "execution_count": 5,
     "metadata": {},
     "output_type": "execute_result"
    }
   ],
   "source": [
    "train"
   ]
  },
  {
   "cell_type": "code",
   "execution_count": 6,
   "metadata": {},
   "outputs": [],
   "source": [
    "class autoencoder(nn.Module):\n",
    "    def __init__(self):\n",
    "        super().__init__()\n",
    "        self.dense0 = nn.Linear(in_features=784, out_features=32)\n",
    "        self.activation0 = nn.ReLU()\n",
    "        self.dense1 = nn.Linear(32, 784)\n",
    "        self.activation1 = nn.Sigmoid()\n",
    "\n",
    "    def forward(self, X):\n",
    "        # Numero inderteminado de registro\n",
    "        X = X.view(-1, 28*28) # Transdorma a matriz 28*28 em um vetor\n",
    "        X = self.dense0(X)\n",
    "        X = self.activation0(X)\n",
    "        X = self.dense1(X)\n",
    "        X = self.activation1(X)\n",
    "\n",
    "        return X"
   ]
  },
  {
   "cell_type": "code",
   "execution_count": 7,
   "metadata": {},
   "outputs": [
    {
     "data": {
      "text/plain": [
       "device(type='cpu')"
      ]
     },
     "execution_count": 7,
     "metadata": {},
     "output_type": "execute_result"
    }
   ],
   "source": [
    "device = torch.device('cuda') if torch.cuda.is_available() else torch.device('cpu')\n",
    "device"
   ]
  },
  {
   "cell_type": "code",
   "execution_count": 8,
   "metadata": {},
   "outputs": [
    {
     "data": {
      "text/plain": [
       "autoencoder(\n",
       "  (dense0): Linear(in_features=784, out_features=32, bias=True)\n",
       "  (activation0): ReLU()\n",
       "  (dense1): Linear(in_features=32, out_features=784, bias=True)\n",
       "  (activation1): Sigmoid()\n",
       ")"
      ]
     },
     "execution_count": 8,
     "metadata": {},
     "output_type": "execute_result"
    }
   ],
   "source": [
    "model = autoencoder()\n",
    "model.to(device)"
   ]
  },
  {
   "cell_type": "code",
   "execution_count": 9,
   "metadata": {},
   "outputs": [],
   "source": [
    "criterion = nn.BCELoss()\n",
    "optimizer = optim.Adam(model.parameters())"
   ]
  },
  {
   "cell_type": "code",
   "execution_count": 10,
   "metadata": {},
   "outputs": [
    {
     "name": "stdout",
     "output_type": "stream",
     "text": [
      "ÉPOCA   1: perda_train 0.29529 perda_val 1.16992\n",
      "ÉPOCA   2: perda_train 0.18119 perda_val 0.98222\n",
      "ÉPOCA   3: perda_train 0.15759 perda_val 0.87673\n",
      "ÉPOCA   4: perda_train 0.14333 perda_val 0.81137\n",
      "ÉPOCA   5: perda_train 0.13427 perda_val 0.76727\n",
      "ÉPOCA   6: perda_train 0.12780 perda_val 0.73547\n",
      "ÉPOCA   7: perda_train 0.12312 perda_val 0.70835\n",
      "ÉPOCA   8: perda_train 0.11805 perda_val 0.68231\n",
      "ÉPOCA   9: perda_train 0.11506 perda_val 0.66903\n",
      "ÉPOCA  10: perda_train 0.11310 perda_val 0.65957\n",
      "ÉPOCA  11: perda_train 0.11184 perda_val 0.65377\n",
      "ÉPOCA  12: perda_train 0.11099 perda_val 0.64956\n",
      "ÉPOCA  13: perda_train 0.11038 perda_val 0.64730\n",
      "ÉPOCA  14: perda_train 0.11003 perda_val 0.64480\n",
      "ÉPOCA  15: perda_train 0.10971 perda_val 0.64060\n",
      "ÉPOCA  16: perda_train 0.10814 perda_val 0.63228\n",
      "ÉPOCA  17: perda_train 0.10751 perda_val 0.62971\n",
      "ÉPOCA  18: perda_train 0.10714 perda_val 0.62776\n",
      "ÉPOCA  19: perda_train 0.10689 perda_val 0.62707\n",
      "ÉPOCA  20: perda_train 0.10675 perda_val 0.62644\n"
     ]
    }
   ],
   "source": [
    "for epoch in range(20):\n",
    "    running_loss_train = 0.\n",
    "    for data in train_loader:\n",
    "        model.train()\n",
    "        inputs, _ = data \n",
    "        inputs = inputs.to(device)\n",
    "        optimizer.zero_grad()\n",
    "        outputs = model.forward(inputs)\n",
    "\n",
    "        loss = criterion(outputs, inputs.view(*outputs.shape)) # transforma os inputs em vetor\n",
    "\n",
    "        loss.backward()\n",
    "        optimizer.step()\n",
    "\n",
    "        running_loss_train += loss.item()\n",
    "\n",
    "    running_loss_val = 0.\n",
    "    for data in train_loader:\n",
    "        model.eval()\n",
    "\n",
    "        inputs, _ = data\n",
    "        inputs = inputs.to(device)\n",
    "\n",
    "        outputs = model.forward(inputs)\n",
    "\n",
    "        loss = criterion(outputs, inputs.view(*outputs.shape)) # transforma os inputs em vetor\n",
    "\n",
    "        running_loss_val += loss.item()\n",
    "    print('ÉPOCA {:3d}: perda_train {:.5f} perda_val {:.5f}'.format(epoch + 1, running_loss_train/len(train_loader), running_loss_val/len(test_loader)))"
   ]
  },
  {
   "cell_type": "code",
   "execution_count": 11,
   "metadata": {},
   "outputs": [
    {
     "data": {
      "text/plain": [
       "[Linear(in_features=784, out_features=32, bias=True),\n",
       " ReLU(),\n",
       " Linear(in_features=32, out_features=784, bias=True),\n",
       " Sigmoid()]"
      ]
     },
     "execution_count": 11,
     "metadata": {},
     "output_type": "execute_result"
    }
   ],
   "source": [
    "list(model.children())"
   ]
  },
  {
   "cell_type": "code",
   "execution_count": 12,
   "metadata": {},
   "outputs": [],
   "source": [
    "class encoder(nn.Module):\n",
    "    def __init__(self):\n",
    "        super().__init__()\n",
    "        self.dense0 = list(model.children())[0] # Primeira camada\n",
    "        self.activation0 = list(model.children())[1] # Relu\n",
    "        \n",
    "    def forward(self, X):\n",
    "        X = X.view(-1, 28*28)\n",
    "        X = self.dense0(X)\n",
    "        X = self.activation0(X)\n",
    "        return X"
   ]
  },
  {
   "cell_type": "code",
   "execution_count": 13,
   "metadata": {},
   "outputs": [
    {
     "data": {
      "text/plain": [
       "encoder(\n",
       "  (dense0): Linear(in_features=784, out_features=32, bias=True)\n",
       "  (activation0): ReLU()\n",
       ")"
      ]
     },
     "execution_count": 13,
     "metadata": {},
     "output_type": "execute_result"
    }
   ],
   "source": [
    "model1 = encoder()\n",
    "model1.to(device)"
   ]
  },
  {
   "cell_type": "code",
   "execution_count": 14,
   "metadata": {},
   "outputs": [],
   "source": [
    "class decoder(nn.Module):\n",
    "    def __init__(self):\n",
    "        super().__init__()\n",
    "        self.dense0 = list(model.children())[2]\n",
    "        self.activation0 = list(model.children())[3]\n",
    "    \n",
    "    def forward(self, X):\n",
    "        X = self.dense0(X)\n",
    "        X = self.activation0(X)\n",
    "        return X"
   ]
  },
  {
   "cell_type": "code",
   "execution_count": 15,
   "metadata": {},
   "outputs": [
    {
     "data": {
      "text/plain": [
       "decoder(\n",
       "  (dense0): Linear(in_features=32, out_features=784, bias=True)\n",
       "  (activation0): Sigmoid()\n",
       ")"
      ]
     },
     "execution_count": 15,
     "metadata": {},
     "output_type": "execute_result"
    }
   ],
   "source": [
    "model2 = decoder()\n",
    "model2  .to(device)"
   ]
  },
  {
   "cell_type": "code",
   "execution_count": 17,
   "metadata": {},
   "outputs": [],
   "source": [
    "numero_imagens = 10\n",
    "imagens_teste = next(iter(test_loader))[0][:numero_imagens]\n",
    "imagens_teste = imagens_teste.to(device)"
   ]
  },
  {
   "cell_type": "code",
   "execution_count": 19,
   "metadata": {},
   "outputs": [],
   "source": [
    "# Imagens codificadas\n",
    "model1.eval()\n",
    "imagens_codificadas = model1(imagens_teste)"
   ]
  },
  {
   "cell_type": "code",
   "execution_count": 20,
   "metadata": {},
   "outputs": [
    {
     "data": {
      "text/plain": [
       "torch.Size([10, 32])"
      ]
     },
     "execution_count": 20,
     "metadata": {},
     "output_type": "execute_result"
    }
   ],
   "source": [
    "imagens_codificadas.shape"
   ]
  },
  {
   "cell_type": "code",
   "execution_count": 21,
   "metadata": {},
   "outputs": [],
   "source": [
    "model2.eval()\n",
    "imagens_decodificadas = model2(imagens_codificadas)"
   ]
  },
  {
   "cell_type": "code",
   "execution_count": 22,
   "metadata": {},
   "outputs": [
    {
     "data": {
      "text/plain": [
       "torch.Size([10, 784])"
      ]
     },
     "execution_count": 22,
     "metadata": {},
     "output_type": "execute_result"
    }
   ],
   "source": [
    "imagens_decodificadas.shape"
   ]
  },
  {
   "cell_type": "code",
   "execution_count": 24,
   "metadata": {},
   "outputs": [],
   "source": [
    "imagens_teste = imagens_teste.detach().cpu().numpy().reshape(-1, 28, 28)\n",
    "imagens_codificadas = imagens_codificadas.detach().cpu().numpy().reshape(-1, 8, 4)\n",
    "imagens_decodificadas = imagens_decodificadas.detach().cpu().numpy().reshape(-1, 28, 28)"
   ]
  },
  {
   "cell_type": "code",
   "execution_count": 25,
   "metadata": {},
   "outputs": [
    {
     "data": {
      "image/png": "[encoded data removed]",
      "text/plain": [
       "<Figure size 720x288 with 30 Axes>"
      ]
     },
     "metadata": {
      "needs_background": "light"
     },
     "output_type": "display_data"
    }
   ],
   "source": [
    "fig, axes = plt.subplots(nrows=3, ncols=numero_imagens, figsize=(10, 4))\n",
    "print(axes)\n",
    "for imagens, ax_row in zip([imagens_teste, imagens_codificadas, imagens_decodificadas], axes):\n",
    "  for img, ax in zip(imagens, ax_row):\n",
    "    ax.imshow(img, cmap='gray')\n",
    "    ax.get_xaxis().set_visible(False)\n",
    "    ax.get_yaxis().set_visible(False)"
   ]
  }
 ],
 "metadata": {
  "kernelspec": {
   "display_name": "Python 3",
   "language": "python",
   "name": "python3"
  },
  "language_info": {
   "codemirror_mode": {
    "name": "ipython",
    "version": 3
   },
   "file_extension": ".py",
   "mimetype": "text/x-python",
   "name": "python",
   "nbconvert_exporter": "python",
   "pygments_lexer": "ipython3",
   "version": "3.10.2"
  },
  "orig_nbformat": 4,
  "vscode": {
   "interpreter": {
    "hash": "748b4bbb40e1dc38591514fffe1d01ec0f0710858425568fad37763828692ea0"
   }
  }
 },
 "nbformat": 4,
 "nbformat_minor": 2
}
